{
 "cells": [
  {
   "cell_type": "code",
   "execution_count": 1,
   "metadata": {},
   "outputs": [
    {
     "name": "stdout",
     "output_type": "stream",
     "text": [
      "C:\\Users\\kangyuwang\\OneDrive\\portfolio\\python_geo\\Lesson 5\n"
     ]
    }
   ],
   "source": [
    "cd \"C:/Users/kangyuwang/OneDrive/portfolio/python_geo/Lesson 5\""
   ]
  },
  {
   "cell_type": "code",
   "execution_count": 19,
   "metadata": {},
   "outputs": [],
   "source": [
    "#Import packages\n",
    "from bokeh.palettes import YlOrRd6 as palette\n",
    "from bokeh.plotting import figure, save\n",
    "from bokeh.models import ColumnDataSource, HoverTool, LogColorMapper, GeoJSONDataSource\n",
    "from bokeh.palettes import RdYlGn10 as palette\n",
    "import geopandas as gpd\n",
    "import pysal as ps\n",
    "import numpy as np\n",
    "import pandas as pd\n",
    "import mapclassify"
   ]
  },
  {
   "cell_type": "code",
   "execution_count": 25,
   "metadata": {},
   "outputs": [],
   "source": [
    "#Read data\n",
    "data=gpd.read_file(\"dataE5/TravelTimes_to_5975375_RailwayStation.shp\")\n",
    "roads=gpd.read_file(\"dataE5/roads.shp\")\n",
    "metro=gpd.read_file(\"dataE5/metro.shp\")"
   ]
  },
  {
   "cell_type": "code",
   "execution_count": 26,
   "metadata": {},
   "outputs": [],
   "source": [
    "#Adjust CRS\n",
    "data=data.to_crs(epsg=3067)\n",
    "roads=roads.to_crs(epsg=3067)\n",
    "metro=metro.to_crs(epsg=3067)"
   ]
  },
  {
   "cell_type": "code",
   "execution_count": 27,
   "metadata": {},
   "outputs": [],
   "source": [
    "#Create x and y coordinates\n",
    "roads.loc[39, \"geometry\"]=roads.loc[39, \"geometry\"][0]\n",
    "roads.loc[158, \"geometry\"]=roads.loc[158, \"geometry\"][0]\n",
    "data.loc[:, \"x\"]=data.loc[:, \"geometry\"].apply(lambda f: list(f.exterior.xy[0]))\n",
    "data.loc[:, \"y\"]=data.loc[:, \"geometry\"].apply(lambda f: list(f.exterior.xy[1]))\n",
    "metro.loc[:, \"x\"]=metro.loc[:, \"geometry\"].apply(lambda f: list(f.xy[0]))\n",
    "metro.loc[:, \"y\"]=metro.loc[:, \"geometry\"].apply(lambda f: list(f.xy[1]))\n",
    "roads.loc[:, \"x\"]=roads.loc[:, \"geometry\"].apply(lambda f: list(f.xy[0]))\n",
    "roads.loc[:, \"y\"]=roads.loc[:, \"geometry\"].apply(lambda f: list(f.xy[1]))"
   ]
  },
  {
   "cell_type": "code",
   "execution_count": 28,
   "metadata": {},
   "outputs": [],
   "source": [
    "#Replace No Data values\n",
    "data=data.replace(-1, 999)"
   ]
  },
  {
   "cell_type": "code",
   "execution_count": 29,
   "metadata": {},
   "outputs": [
    {
     "data": {
      "text/html": [
       "<div>\n",
       "<style scoped>\n",
       "    .dataframe tbody tr th:only-of-type {\n",
       "        vertical-align: middle;\n",
       "    }\n",
       "\n",
       "    .dataframe tbody tr th {\n",
       "        vertical-align: top;\n",
       "    }\n",
       "\n",
       "    .dataframe thead th {\n",
       "        text-align: right;\n",
       "    }\n",
       "</style>\n",
       "<table border=\"1\" class=\"dataframe\">\n",
       "  <thead>\n",
       "    <tr style=\"text-align: right;\">\n",
       "      <th></th>\n",
       "      <th>car_m_d</th>\n",
       "      <th>car_m_t</th>\n",
       "      <th>car_r_d</th>\n",
       "      <th>car_r_t</th>\n",
       "      <th>from_id</th>\n",
       "      <th>pt_m_d</th>\n",
       "      <th>pt_m_t</th>\n",
       "      <th>pt_m_tt</th>\n",
       "      <th>pt_r_d</th>\n",
       "      <th>pt_r_t</th>\n",
       "      <th>pt_r_tt</th>\n",
       "      <th>to_id</th>\n",
       "      <th>walk_d</th>\n",
       "      <th>walk_t</th>\n",
       "      <th>geometry</th>\n",
       "      <th>x</th>\n",
       "      <th>y</th>\n",
       "      <th>pt_r_tt_ud</th>\n",
       "      <th>car_r_t_ud</th>\n",
       "    </tr>\n",
       "  </thead>\n",
       "  <tbody>\n",
       "    <tr>\n",
       "      <td>0</td>\n",
       "      <td>32297</td>\n",
       "      <td>43</td>\n",
       "      <td>32260</td>\n",
       "      <td>48</td>\n",
       "      <td>5785640</td>\n",
       "      <td>32616</td>\n",
       "      <td>116</td>\n",
       "      <td>147</td>\n",
       "      <td>32616</td>\n",
       "      <td>108</td>\n",
       "      <td>139</td>\n",
       "      <td>5975375</td>\n",
       "      <td>32164</td>\n",
       "      <td>459</td>\n",
       "      <td>POLYGON ((382000.0001358641 6697750.000038058,...</td>\n",
       "      <td>[382000.00013586413, 381750.0001359122, 381750...</td>\n",
       "      <td>[6697750.000038058, 6697750.000038066, 6698000...</td>\n",
       "      <td>27</td>\n",
       "      <td>9</td>\n",
       "    </tr>\n",
       "    <tr>\n",
       "      <td>1</td>\n",
       "      <td>32508</td>\n",
       "      <td>43</td>\n",
       "      <td>32471</td>\n",
       "      <td>49</td>\n",
       "      <td>5785641</td>\n",
       "      <td>32822</td>\n",
       "      <td>119</td>\n",
       "      <td>145</td>\n",
       "      <td>32822</td>\n",
       "      <td>111</td>\n",
       "      <td>133</td>\n",
       "      <td>5975375</td>\n",
       "      <td>29547</td>\n",
       "      <td>422</td>\n",
       "      <td>POLYGON ((382250.0001358146 6697750.000038052,...</td>\n",
       "      <td>[382250.0001358146, 382000.00013586413, 382000...</td>\n",
       "      <td>[6697750.000038052, 6697750.000038058, 6698000...</td>\n",
       "      <td>26</td>\n",
       "      <td>9</td>\n",
       "    </tr>\n",
       "    <tr>\n",
       "      <td>2</td>\n",
       "      <td>30133</td>\n",
       "      <td>50</td>\n",
       "      <td>31872</td>\n",
       "      <td>56</td>\n",
       "      <td>5785642</td>\n",
       "      <td>32940</td>\n",
       "      <td>121</td>\n",
       "      <td>146</td>\n",
       "      <td>32940</td>\n",
       "      <td>113</td>\n",
       "      <td>133</td>\n",
       "      <td>5975375</td>\n",
       "      <td>29626</td>\n",
       "      <td>423</td>\n",
       "      <td>POLYGON ((382500.0001357661 6697750.000038046,...</td>\n",
       "      <td>[382500.0001357661, 382250.0001358146, 382250....</td>\n",
       "      <td>[6697750.000038046, 6697750.000038052, 6698000...</td>\n",
       "      <td>26</td>\n",
       "      <td>11</td>\n",
       "    </tr>\n",
       "    <tr>\n",
       "      <td>3</td>\n",
       "      <td>32690</td>\n",
       "      <td>54</td>\n",
       "      <td>34429</td>\n",
       "      <td>60</td>\n",
       "      <td>5785643</td>\n",
       "      <td>33233</td>\n",
       "      <td>125</td>\n",
       "      <td>150</td>\n",
       "      <td>33233</td>\n",
       "      <td>117</td>\n",
       "      <td>144</td>\n",
       "      <td>5975375</td>\n",
       "      <td>29919</td>\n",
       "      <td>427</td>\n",
       "      <td>POLYGON ((382750.0001357181 6697750.000038039,...</td>\n",
       "      <td>[382750.0001357181, 382500.0001357661, 382500....</td>\n",
       "      <td>[6697750.000038039, 6697750.000038046, 6698000...</td>\n",
       "      <td>28</td>\n",
       "      <td>11</td>\n",
       "    </tr>\n",
       "    <tr>\n",
       "      <td>4</td>\n",
       "      <td>31872</td>\n",
       "      <td>42</td>\n",
       "      <td>31834</td>\n",
       "      <td>48</td>\n",
       "      <td>5787544</td>\n",
       "      <td>32127</td>\n",
       "      <td>109</td>\n",
       "      <td>126</td>\n",
       "      <td>32127</td>\n",
       "      <td>101</td>\n",
       "      <td>121</td>\n",
       "      <td>5975375</td>\n",
       "      <td>31674</td>\n",
       "      <td>452</td>\n",
       "      <td>POLYGON ((381250.0001360176 6697500.00003812, ...</td>\n",
       "      <td>[381250.00013601757, 381000.00013606605, 38100...</td>\n",
       "      <td>[6697500.00003812, 6697500.000038126, 6697750....</td>\n",
       "      <td>24</td>\n",
       "      <td>9</td>\n",
       "    </tr>\n",
       "  </tbody>\n",
       "</table>\n",
       "</div>"
      ],
      "text/plain": [
       "   car_m_d  car_m_t  car_r_d  car_r_t  from_id  pt_m_d  pt_m_t  pt_m_tt  \\\n",
       "0    32297       43    32260       48  5785640   32616     116      147   \n",
       "1    32508       43    32471       49  5785641   32822     119      145   \n",
       "2    30133       50    31872       56  5785642   32940     121      146   \n",
       "3    32690       54    34429       60  5785643   33233     125      150   \n",
       "4    31872       42    31834       48  5787544   32127     109      126   \n",
       "\n",
       "   pt_r_d  pt_r_t  pt_r_tt    to_id  walk_d  walk_t  \\\n",
       "0   32616     108      139  5975375   32164     459   \n",
       "1   32822     111      133  5975375   29547     422   \n",
       "2   32940     113      133  5975375   29626     423   \n",
       "3   33233     117      144  5975375   29919     427   \n",
       "4   32127     101      121  5975375   31674     452   \n",
       "\n",
       "                                            geometry  \\\n",
       "0  POLYGON ((382000.0001358641 6697750.000038058,...   \n",
       "1  POLYGON ((382250.0001358146 6697750.000038052,...   \n",
       "2  POLYGON ((382500.0001357661 6697750.000038046,...   \n",
       "3  POLYGON ((382750.0001357181 6697750.000038039,...   \n",
       "4  POLYGON ((381250.0001360176 6697500.00003812, ...   \n",
       "\n",
       "                                                   x  \\\n",
       "0  [382000.00013586413, 381750.0001359122, 381750...   \n",
       "1  [382250.0001358146, 382000.00013586413, 382000...   \n",
       "2  [382500.0001357661, 382250.0001358146, 382250....   \n",
       "3  [382750.0001357181, 382500.0001357661, 382500....   \n",
       "4  [381250.00013601757, 381000.00013606605, 38100...   \n",
       "\n",
       "                                                   y  pt_r_tt_ud  car_r_t_ud  \n",
       "0  [6697750.000038058, 6697750.000038066, 6698000...          27           9  \n",
       "1  [6697750.000038052, 6697750.000038058, 6698000...          26           9  \n",
       "2  [6697750.000038046, 6697750.000038052, 6698000...          26          11  \n",
       "3  [6697750.000038039, 6697750.000038046, 6698000...          28          11  \n",
       "4  [6697500.00003812, 6697500.000038126, 6697750....          24           9  "
      ]
     },
     "execution_count": 29,
     "metadata": {},
     "output_type": "execute_result"
    }
   ],
   "source": [
    "#Classify travel times\n",
    "breaks=[x for x in range(5, 200, 5)]\n",
    "classifier=mapclassify.User_Defined.make(bins=breaks)\n",
    "pt_classify=classifier(data.loc[:, \"pt_r_tt\"])\n",
    "car_classify=classifier(data.loc[:, \"car_r_t\"])\n",
    "data.loc[:, \"pt_r_tt_ud\"] = pt_classify\n",
    "data.loc[:, \"car_r_t_ud\"] = car_classify\n",
    "data.head()"
   ]
  },
  {
   "cell_type": "code",
   "execution_count": 30,
   "metadata": {},
   "outputs": [],
   "source": [
    "#Give names to time ranges\n",
    "names=[f\"{n}-{n+5}\" for n in range(0, 60, 5)]\n",
    "names.append(\"60 <\")"
   ]
  },
  {
   "cell_type": "code",
   "execution_count": 31,
   "metadata": {},
   "outputs": [
    {
     "data": {
      "text/plain": [
       "['0-5',\n",
       " '5-10',\n",
       " '10-15',\n",
       " '15-20',\n",
       " '20-25',\n",
       " '25-30',\n",
       " '30-35',\n",
       " '35-40',\n",
       " '40-45',\n",
       " '45-50',\n",
       " '50-55',\n",
       " '55-60',\n",
       " '60 <']"
      ]
     },
     "execution_count": 31,
     "metadata": {},
     "output_type": "execute_result"
    }
   ],
   "source": [
    "names"
   ]
  },
  {
   "cell_type": "code",
   "execution_count": 32,
   "metadata": {},
   "outputs": [],
   "source": [
    "names_df=pd.DataFrame(data=names)\n",
    "names_df.columns=[\"name\"]\n",
    "names_df.loc[:, \"index\"]=names_df.index"
   ]
  },
  {
   "cell_type": "code",
   "execution_count": 33,
   "metadata": {},
   "outputs": [],
   "source": [
    "data=data.merge(right=names_df, how=\"left\", left_on=\"pt_r_tt_ud\", right_on=\"index\")\n",
    "data.loc[:, \"pt_name\"]=data.loc[:, \"name\"]\n",
    "data=data.drop([\"index\", \"name\"], axis=1)\n",
    "\n",
    "data=data.merge(right=names_df, how=\"left\", left_on=\"car_r_t_ud\", right_on=\"index\")\n",
    "data.loc[:, \"car_name\"]=data.loc[:, \"name\"]\n",
    "data=data.drop([\"index\", \"name\"], axis=1)"
   ]
  },
  {
   "cell_type": "code",
   "execution_count": 34,
   "metadata": {},
   "outputs": [],
   "source": [
    "data.loc[data.loc[:, \"car_name\"].isnull(), \"car_name\"]=\"60 <\"\n",
    "data.loc[data.loc[:, \"pt_name\"].isnull(), \"pt_name\"]=\"60 <\""
   ]
  },
  {
   "cell_type": "code",
   "execution_count": 51,
   "metadata": {},
   "outputs": [
    {
     "name": "stderr",
     "output_type": "stream",
     "text": [
      "C:\\ProgramData\\Anaconda3\\lib\\site-packages\\bokeh\\io\\saving.py:126: UserWarning: save() called but no resources were supplied and output_file(...) was never called, defaulting to resources.CDN\n",
      "  warn(\"save() called but no resources were supplied and output_file(...) was never called, defaulting to resources.CDN\")\n",
      "C:\\ProgramData\\Anaconda3\\lib\\site-packages\\bokeh\\io\\saving.py:139: UserWarning: save() called but no title was supplied and output_file(...) was never called, using default title 'Bokeh Plot'\n",
      "  warn(\"save() called but no title was supplied and output_file(...) was never called, using default title 'Bokeh Plot'\")\n"
     ]
    },
    {
     "data": {
      "text/plain": [
       "'C:\\\\Users\\\\kangyuwang\\\\OneDrive\\\\portfolio\\\\python_geo\\\\Lesson 5\\\\accessibility_map_Helsinki.html'"
      ]
     },
     "execution_count": 51,
     "metadata": {},
     "output_type": "execute_result"
    }
   ],
   "source": [
    "#Make maps\n",
    "df=data.loc[:, ['x', 'y', 'pt_r_tt_ud', 'pt_r_tt', 'car_r_t', 'from_id', 'pt_name']]\n",
    "df_source=ColumnDataSource(data=df)\n",
    "\n",
    "rdf=roads.loc[:, [\"x\", \"y\"]]\n",
    "rdf_source=ColumnDataSource(data=rdf)\n",
    "\n",
    "mdf=metro.loc[:, [\"x\", \"y\"]]\n",
    "mdf_source=ColumnDataSource(data=mdf)\n",
    "\n",
    "TOOLS=\"pan, wheel_zoom, box_zoom, reset, save\"\n",
    "\n",
    "pallete.reverse()\n",
    "color_mapper=LogColorMapper(palette=palette)\n",
    "\n",
    "p=figure(title=\"Travel times to Helsinki city center by public transportation\", tools=TOOLS, plot_width=650, plot_height=500, active_scroll=\"wheel_zoom\")\n",
    "p.grid.grid_line_color=None\n",
    "grid=p.patches(\"x\", \"y\", source=df_source, name=\"grid\", fill_color={\"field\":\"pt_r_tt_ud\", \"transform\":color_mapper}, fill_alpha=1.0, line_color=\"black\", line_width=0.03, legend=\"pt_name\")\n",
    "r=p.multi_line(\"x\", \"y\", source=rdf_source, color=\"grey\")\n",
    "m=p.multi_line(\"x\", \"y\", source=mdf_source, color=\"red\")\n",
    "\n",
    "p.legend.location=\"top_right\"\n",
    "p.legend.orientation=\"vertical\"\n",
    "\n",
    "circle=p.circle(x=385752.214, y=6672143.803, name=\"point\", size=6, color=\"yellow\")\n",
    "\n",
    "phover=HoverTool(renderers=[circle])\n",
    "phover.tooltips=[(\"Destination\", \"Railway Station\")]\n",
    "\n",
    "ghover=HoverTool(renderers=[grid])\n",
    "ghover.tooltips=[(\"YKR-ID\", \"@from_id\"), (\"PT time\", \"@pt_r_tt\"), (\"Car time\", \"@car_r_t\")]\n",
    "\n",
    "p.add_tools(ghover)\n",
    "p.add_tools(phover)\n",
    "\n",
    "save(p, \"accessibility_map_Helsinki.html\")"
   ]
  },
  {
   "cell_type": "code",
   "execution_count": 40,
   "metadata": {},
   "outputs": [],
   "source": []
  },
  {
   "cell_type": "code",
   "execution_count": null,
   "metadata": {},
   "outputs": [],
   "source": [
    "\n"
   ]
  }
 ],
 "metadata": {
  "kernelspec": {
   "display_name": "Python 3",
   "language": "python",
   "name": "python3"
  },
  "language_info": {
   "codemirror_mode": {
    "name": "ipython",
    "version": 3
   },
   "file_extension": ".py",
   "mimetype": "text/x-python",
   "name": "python",
   "nbconvert_exporter": "python",
   "pygments_lexer": "ipython3",
   "version": "3.7.4"
  }
 },
 "nbformat": 4,
 "nbformat_minor": 2
}
