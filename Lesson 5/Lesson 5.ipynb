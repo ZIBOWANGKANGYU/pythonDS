{
 "cells": [
  {
   "cell_type": "code",
   "execution_count": 1,
   "metadata": {},
   "outputs": [
    {
     "name": "stdout",
     "output_type": "stream",
     "text": [
      "C:\\Users\\kangyuwang\\OneDrive\\portfolio\\python_geo\\Lesson 5\n"
     ]
    }
   ],
   "source": [
    "cd \"C:/Users/kangyuwang/OneDrive/portfolio/python_geo/Lesson 5\""
   ]
  },
  {
   "cell_type": "code",
   "execution_count": 2,
   "metadata": {},
   "outputs": [],
   "source": [
    "#Import packages\n",
    "import geopandas as gpd\n",
    "import matplotlib.pyplot as plt\n",
    "import numpy as np\n",
    "import mapclassify\n",
    "from bokeh.plotting import figure, save\n",
    "from bokeh.models import ColumnDataSource, HoverTool, LogColorMapper"
   ]
  },
  {
   "cell_type": "code",
   "execution_count": 3,
   "metadata": {},
   "outputs": [],
   "source": [
    "#Read data\n",
    "grid=gpd.read_file(\"dataE5/TravelTimes_to_5975375_RailwayStation.shp\")\n",
    "roads=gpd.read_file(\"dataE5/roads.shp\")\n",
    "metro=gpd.read_file(\"dataE5/metro.shp\")\n",
    "points=gpd.read_file(\"dataE5/addresses.shp\")"
   ]
  },
  {
   "cell_type": "code",
   "execution_count": 4,
   "metadata": {},
   "outputs": [],
   "source": [
    "#Adjust coordination system\n",
    "gridCRS=grid.crs\n",
    "roads=roads.to_crs(gridCRS)\n",
    "metro=metro.to_crs(gridCRS)\n",
    "points=points.to_crs(gridCRS)"
   ]
  },
  {
   "cell_type": "code",
   "execution_count": 5,
   "metadata": {},
   "outputs": [
    {
     "data": {
      "text/html": [
       "<div>\n",
       "<style scoped>\n",
       "    .dataframe tbody tr th:only-of-type {\n",
       "        vertical-align: middle;\n",
       "    }\n",
       "\n",
       "    .dataframe tbody tr th {\n",
       "        vertical-align: top;\n",
       "    }\n",
       "\n",
       "    .dataframe thead th {\n",
       "        text-align: right;\n",
       "    }\n",
       "</style>\n",
       "<table border=\"1\" class=\"dataframe\">\n",
       "  <thead>\n",
       "    <tr style=\"text-align: right;\">\n",
       "      <th></th>\n",
       "      <th>car_m_d</th>\n",
       "      <th>car_m_t</th>\n",
       "      <th>car_r_d</th>\n",
       "      <th>car_r_t</th>\n",
       "      <th>from_id</th>\n",
       "      <th>pt_m_d</th>\n",
       "      <th>pt_m_t</th>\n",
       "      <th>pt_m_tt</th>\n",
       "      <th>pt_r_d</th>\n",
       "      <th>pt_r_t</th>\n",
       "      <th>pt_r_tt</th>\n",
       "      <th>to_id</th>\n",
       "      <th>walk_d</th>\n",
       "      <th>walk_t</th>\n",
       "      <th>geometry</th>\n",
       "    </tr>\n",
       "  </thead>\n",
       "  <tbody>\n",
       "    <tr>\n",
       "      <td>0</td>\n",
       "      <td>32297</td>\n",
       "      <td>43</td>\n",
       "      <td>32260</td>\n",
       "      <td>48</td>\n",
       "      <td>5785640</td>\n",
       "      <td>32616</td>\n",
       "      <td>116</td>\n",
       "      <td>147</td>\n",
       "      <td>32616</td>\n",
       "      <td>108</td>\n",
       "      <td>139</td>\n",
       "      <td>5975375</td>\n",
       "      <td>32164</td>\n",
       "      <td>459</td>\n",
       "      <td>POLYGON ((382000.0001358641 6697750.000038058,...</td>\n",
       "    </tr>\n",
       "    <tr>\n",
       "      <td>1</td>\n",
       "      <td>32508</td>\n",
       "      <td>43</td>\n",
       "      <td>32471</td>\n",
       "      <td>49</td>\n",
       "      <td>5785641</td>\n",
       "      <td>32822</td>\n",
       "      <td>119</td>\n",
       "      <td>145</td>\n",
       "      <td>32822</td>\n",
       "      <td>111</td>\n",
       "      <td>133</td>\n",
       "      <td>5975375</td>\n",
       "      <td>29547</td>\n",
       "      <td>422</td>\n",
       "      <td>POLYGON ((382250.0001358146 6697750.000038053,...</td>\n",
       "    </tr>\n",
       "    <tr>\n",
       "      <td>2</td>\n",
       "      <td>30133</td>\n",
       "      <td>50</td>\n",
       "      <td>31872</td>\n",
       "      <td>56</td>\n",
       "      <td>5785642</td>\n",
       "      <td>32940</td>\n",
       "      <td>121</td>\n",
       "      <td>146</td>\n",
       "      <td>32940</td>\n",
       "      <td>113</td>\n",
       "      <td>133</td>\n",
       "      <td>5975375</td>\n",
       "      <td>29626</td>\n",
       "      <td>423</td>\n",
       "      <td>POLYGON ((382500.0001357661 6697750.000038046,...</td>\n",
       "    </tr>\n",
       "    <tr>\n",
       "      <td>3</td>\n",
       "      <td>32690</td>\n",
       "      <td>54</td>\n",
       "      <td>34429</td>\n",
       "      <td>60</td>\n",
       "      <td>5785643</td>\n",
       "      <td>33233</td>\n",
       "      <td>125</td>\n",
       "      <td>150</td>\n",
       "      <td>33233</td>\n",
       "      <td>117</td>\n",
       "      <td>144</td>\n",
       "      <td>5975375</td>\n",
       "      <td>29919</td>\n",
       "      <td>427</td>\n",
       "      <td>POLYGON ((382750.0001357181 6697750.000038039,...</td>\n",
       "    </tr>\n",
       "    <tr>\n",
       "      <td>4</td>\n",
       "      <td>31872</td>\n",
       "      <td>42</td>\n",
       "      <td>31834</td>\n",
       "      <td>48</td>\n",
       "      <td>5787544</td>\n",
       "      <td>32127</td>\n",
       "      <td>109</td>\n",
       "      <td>126</td>\n",
       "      <td>32127</td>\n",
       "      <td>101</td>\n",
       "      <td>121</td>\n",
       "      <td>5975375</td>\n",
       "      <td>31674</td>\n",
       "      <td>452</td>\n",
       "      <td>POLYGON ((381250.0001360176 6697500.000038121,...</td>\n",
       "    </tr>\n",
       "  </tbody>\n",
       "</table>\n",
       "</div>"
      ],
      "text/plain": [
       "   car_m_d  car_m_t  car_r_d  car_r_t  from_id  pt_m_d  pt_m_t  pt_m_tt  \\\n",
       "0    32297       43    32260       48  5785640   32616     116      147   \n",
       "1    32508       43    32471       49  5785641   32822     119      145   \n",
       "2    30133       50    31872       56  5785642   32940     121      146   \n",
       "3    32690       54    34429       60  5785643   33233     125      150   \n",
       "4    31872       42    31834       48  5787544   32127     109      126   \n",
       "\n",
       "   pt_r_d  pt_r_t  pt_r_tt    to_id  walk_d  walk_t  \\\n",
       "0   32616     108      139  5975375   32164     459   \n",
       "1   32822     111      133  5975375   29547     422   \n",
       "2   32940     113      133  5975375   29626     423   \n",
       "3   33233     117      144  5975375   29919     427   \n",
       "4   32127     101      121  5975375   31674     452   \n",
       "\n",
       "                                            geometry  \n",
       "0  POLYGON ((382000.0001358641 6697750.000038058,...  \n",
       "1  POLYGON ((382250.0001358146 6697750.000038053,...  \n",
       "2  POLYGON ((382500.0001357661 6697750.000038046,...  \n",
       "3  POLYGON ((382750.0001357181 6697750.000038039,...  \n",
       "4  POLYGON ((381250.0001360176 6697500.000038121,...  "
      ]
     },
     "execution_count": 5,
     "metadata": {},
     "output_type": "execute_result"
    }
   ],
   "source": [
    "grid.head(5)"
   ]
  },
  {
   "cell_type": "code",
   "execution_count": 6,
   "metadata": {},
   "outputs": [
    {
     "data": {
      "image/png": "[encoded data removed]",
      "text/plain": [
       "<Figure size 432x288 with 1 Axes>"
      ]
     },
     "metadata": {
      "needs_background": "light"
     },
     "output_type": "display_data"
    }
   ],
   "source": [
    "#Visualization of maps\n",
    "my_map=grid.plot(column=\"car_r_t\", linewidth=0.03, cmap=\"Reds\", scheme=\"quantiles\", k=9, alpha=0.9)\n",
    "roads.plot(ax=my_map, color=\"grey\", linewidth=1.5)\n",
    "metro.plot(ax=my_map, color=\"red\", linewidth=2.5)\n",
    "plt.tight_layout()\n",
    "plt.savefig(\"static_map.png\", dpi=300)"
   ]
  },
  {
   "cell_type": "code",
   "execution_count": 7,
   "metadata": {},
   "outputs": [
    {
     "name": "stderr",
     "output_type": "stream",
     "text": [
      "C:\\ProgramData\\Anaconda3\\lib\\site-packages\\bokeh\\io\\saving.py:126: UserWarning: save() called but no resources were supplied and output_file(...) was never called, defaulting to resources.CDN\n",
      "  warn(\"save() called but no resources were supplied and output_file(...) was never called, defaulting to resources.CDN\")\n",
      "C:\\ProgramData\\Anaconda3\\lib\\site-packages\\bokeh\\io\\saving.py:139: UserWarning: save() called but no title was supplied and output_file(...) was never called, using default title 'Bokeh Plot'\n",
      "  warn(\"save() called but no title was supplied and output_file(...) was never called, using default title 'Bokeh Plot'\")\n"
     ]
    },
    {
     "data": {
      "text/plain": [
       "'C:\\\\Users\\\\kangyuwang\\\\OneDrive\\\\portfolio\\\\python_geo\\\\Lesson 5\\\\points.html'"
      ]
     },
     "execution_count": 7,
     "metadata": {},
     "output_type": "execute_result"
    }
   ],
   "source": [
    "#Interactive maps\n",
    "p=figure(title=\"My first interactive plot\")\n",
    "p\n",
    "x_coords=[0, 1, 2, 3, 4]\n",
    "y_coords=[5, 4, 1, 2, 0]\n",
    "p.circle(x=x_coords, y=y_coords, size=10, color=\"red\")\n",
    "save(obj=p, filename=\"points.html\")"
   ]
  },
  {
   "cell_type": "code",
   "execution_count": 8,
   "metadata": {},
   "outputs": [
    {
     "data": {
      "text/html": [
       "<div>\n",
       "<style scoped>\n",
       "    .dataframe tbody tr th:only-of-type {\n",
       "        vertical-align: middle;\n",
       "    }\n",
       "\n",
       "    .dataframe tbody tr th {\n",
       "        vertical-align: top;\n",
       "    }\n",
       "\n",
       "    .dataframe thead th {\n",
       "        text-align: right;\n",
       "    }\n",
       "</style>\n",
       "<table border=\"1\" class=\"dataframe\">\n",
       "  <thead>\n",
       "    <tr style=\"text-align: right;\">\n",
       "      <th></th>\n",
       "      <th>address</th>\n",
       "      <th>id</th>\n",
       "      <th>geometry</th>\n",
       "    </tr>\n",
       "  </thead>\n",
       "  <tbody>\n",
       "    <tr>\n",
       "      <td>0</td>\n",
       "      <td>Kampinkuja 1, 00100 Helsinki, Finland</td>\n",
       "      <td>1001</td>\n",
       "      <td>POINT (385149.4478367225 6671962.669661295)</td>\n",
       "    </tr>\n",
       "    <tr>\n",
       "      <td>1</td>\n",
       "      <td>Kaivokatu 8, 00101 Helsinki, Finland</td>\n",
       "      <td>1002</td>\n",
       "      <td>POINT (385804.9853879581 6672108.604159364)</td>\n",
       "    </tr>\n",
       "    <tr>\n",
       "      <td>2</td>\n",
       "      <td>Hermanstads strandsväg 1, 00580 Helsingfors, F...</td>\n",
       "      <td>1003</td>\n",
       "      <td>POINT (387834.3668702977 6673995.246252355)</td>\n",
       "    </tr>\n",
       "    <tr>\n",
       "      <td>3</td>\n",
       "      <td>Itäväylä, 00900 Helsinki, Finland</td>\n",
       "      <td>1004</td>\n",
       "      <td>POINT (394273.706337673 6676825.896046941)</td>\n",
       "    </tr>\n",
       "    <tr>\n",
       "      <td>4</td>\n",
       "      <td>Tyynenmerenkatu 9, 00220 Helsinki, Finland</td>\n",
       "      <td>1005</td>\n",
       "      <td>POINT (384626.2727378063 6670664.629381315)</td>\n",
       "    </tr>\n",
       "  </tbody>\n",
       "</table>\n",
       "</div>"
      ],
      "text/plain": [
       "                                             address    id  \\\n",
       "0              Kampinkuja 1, 00100 Helsinki, Finland  1001   \n",
       "1               Kaivokatu 8, 00101 Helsinki, Finland  1002   \n",
       "2  Hermanstads strandsväg 1, 00580 Helsingfors, F...  1003   \n",
       "3                  Itäväylä, 00900 Helsinki, Finland  1004   \n",
       "4         Tyynenmerenkatu 9, 00220 Helsinki, Finland  1005   \n",
       "\n",
       "                                      geometry  \n",
       "0  POINT (385149.4478367225 6671962.669661295)  \n",
       "1  POINT (385804.9853879581 6672108.604159364)  \n",
       "2  POINT (387834.3668702977 6673995.246252355)  \n",
       "3   POINT (394273.706337673 6676825.896046941)  \n",
       "4  POINT (384626.2727378063 6670664.629381315)  "
      ]
     },
     "execution_count": 8,
     "metadata": {},
     "output_type": "execute_result"
    }
   ],
   "source": [
    "#Using Bokeh and Geopandas\n",
    "points.head()"
   ]
  },
  {
   "cell_type": "code",
   "execution_count": 9,
   "metadata": {},
   "outputs": [
    {
     "data": {
      "text/html": [
       "<div>\n",
       "<style scoped>\n",
       "    .dataframe tbody tr th:only-of-type {\n",
       "        vertical-align: middle;\n",
       "    }\n",
       "\n",
       "    .dataframe tbody tr th {\n",
       "        vertical-align: top;\n",
       "    }\n",
       "\n",
       "    .dataframe thead th {\n",
       "        text-align: right;\n",
       "    }\n",
       "</style>\n",
       "<table border=\"1\" class=\"dataframe\">\n",
       "  <thead>\n",
       "    <tr style=\"text-align: right;\">\n",
       "      <th></th>\n",
       "      <th>address</th>\n",
       "      <th>id</th>\n",
       "      <th>x</th>\n",
       "      <th>y</th>\n",
       "    </tr>\n",
       "  </thead>\n",
       "  <tbody>\n",
       "    <tr>\n",
       "      <td>0</td>\n",
       "      <td>Kampinkuja 1, 00100 Helsinki, Finland</td>\n",
       "      <td>1001</td>\n",
       "      <td>385149.447837</td>\n",
       "      <td>6.671963e+06</td>\n",
       "    </tr>\n",
       "    <tr>\n",
       "      <td>1</td>\n",
       "      <td>Kaivokatu 8, 00101 Helsinki, Finland</td>\n",
       "      <td>1002</td>\n",
       "      <td>385804.985388</td>\n",
       "      <td>6.672109e+06</td>\n",
       "    </tr>\n",
       "    <tr>\n",
       "      <td>2</td>\n",
       "      <td>Hermanstads strandsväg 1, 00580 Helsingfors, F...</td>\n",
       "      <td>1003</td>\n",
       "      <td>387834.366870</td>\n",
       "      <td>6.673995e+06</td>\n",
       "    </tr>\n",
       "    <tr>\n",
       "      <td>3</td>\n",
       "      <td>Itäväylä, 00900 Helsinki, Finland</td>\n",
       "      <td>1004</td>\n",
       "      <td>394273.706338</td>\n",
       "      <td>6.676826e+06</td>\n",
       "    </tr>\n",
       "    <tr>\n",
       "      <td>4</td>\n",
       "      <td>Tyynenmerenkatu 9, 00220 Helsinki, Finland</td>\n",
       "      <td>1005</td>\n",
       "      <td>384626.272738</td>\n",
       "      <td>6.670665e+06</td>\n",
       "    </tr>\n",
       "  </tbody>\n",
       "</table>\n",
       "</div>"
      ],
      "text/plain": [
       "                                             address    id              x  \\\n",
       "0              Kampinkuja 1, 00100 Helsinki, Finland  1001  385149.447837   \n",
       "1               Kaivokatu 8, 00101 Helsinki, Finland  1002  385804.985388   \n",
       "2  Hermanstads strandsväg 1, 00580 Helsingfors, F...  1003  387834.366870   \n",
       "3                  Itäväylä, 00900 Helsinki, Finland  1004  394273.706338   \n",
       "4         Tyynenmerenkatu 9, 00220 Helsinki, Finland  1005  384626.272738   \n",
       "\n",
       "              y  \n",
       "0  6.671963e+06  \n",
       "1  6.672109e+06  \n",
       "2  6.673995e+06  \n",
       "3  6.676826e+06  \n",
       "4  6.670665e+06  "
      ]
     },
     "execution_count": 9,
     "metadata": {},
     "output_type": "execute_result"
    }
   ],
   "source": [
    "points.loc[:, \"x\"]=points.loc[:, 'geometry'].x\n",
    "points.loc[:, \"y\"]=points.loc[:, 'geometry'].y\n",
    "points.head()\n",
    "points=points.drop(\"geometry\", axis=1)\n",
    "points.head()"
   ]
  },
  {
   "cell_type": "code",
   "execution_count": 10,
   "metadata": {},
   "outputs": [
    {
     "data": {
      "text/html": [
       "<div style=\"display: table;\"><div style=\"display: table-row;\"><div style=\"display: table-cell;\"><b title=\"bokeh.models.sources.ColumnDataSource\">ColumnDataSource</b>(</div><div style=\"display: table-cell;\">id&nbsp;=&nbsp;'1113', <span id=\"1115\" style=\"cursor: pointer;\">&hellip;)</span></div></div><div class=\"1114\" style=\"display: none;\"><div style=\"display: table-cell;\"></div><div style=\"display: table-cell;\">callback&nbsp;=&nbsp;None,</div></div><div class=\"1114\" style=\"display: none;\"><div style=\"display: table-cell;\"></div><div style=\"display: table-cell;\">data&nbsp;=&nbsp;{'address': ['Kampinkuja 1, 00100 Helsinki, Finland', 'Kaivokatu 8, 00101 Helsinki, Finland', 'Hermanstads strandsväg 1, 00580 Helsingfors, Finland', 'Itäväylä, 00900 Helsinki, Finland', 'Tyynenmerenkatu 9, 00220 Helsinki, Finland', 'Kontulantie 18, 00940 Helsinki, Finland', 'Itäväylä, 00800 Helsinki, Finland', 'Tapulikaupungintie 3, 00750 Helsinki, Finland', 'Sompionpolku 2, 00730 Helsinki, Finland', 'Atomitie 5, 00370 Helsinki, Finland', 'Rautatientori 1, 00100 Helsinki, Finland', 'Kuparitie 8, 00440 Helsinki, Finland', 'Trumstigen 8, 00420 Helsingfors, Finland', 'Kullatorpsvägen 1, 00620 Helsingfors, Finland', 'Malminkaari 15, 00700 Helsinki, Finland', 'Kylätie 23, 00320 Helsinki, Finland', 'Malminkartanontie 17, 00410 Helsinki, Finland', 'Åggelby torg 2b, 00640 Helsingfors, Finland', 'Bangårdsvägen 6, 00101 Helsingfors, Finland', 'Pitäjänmäentie 15, 00370 Helsinki, Finland', 'Eskolantie 2, 00720 Helsinki, Finland', 'Tattariharjuntie, 00700 Helsinki, Finland', 'Tallinnanaukio 1, 00930 Helsinki, Finland', 'Tyynylaavantie 7, 00980 Helsinki, Finland', 'Varvasmäenkuja, 00920 Helsinki, Finland', 'Mellungsbackastråket 6, 00970 Helsingfors, Finland', 'Vasastigen 2, 00101 Helsingfors, Finland', 'Hiihtäjäntie 2, 00810 Helsinki, Finland', 'Ukko-Pekan porras, 00570 Helsinki, Finland', 'Siltasaarenkatu 16, 00530 Helsinki, Finland', 'Urho Kekkosen katu 1, 00100 Helsinki, Finland', 'Gräsviksgatan 17, 00101 Helsingfors, Finland', 'Stillahavsgatan 3, 00220 Helsingfors, Finland', 'Vilhelmsgatan 4, 00101 Helsingfors, Finland', 'Torisilta, 00980 Helsinki, Finland'], 'id': [1001, 1002, 1003, 1004, 1005, 1006, 1007, 1008, 1009, 1010, 1011, 1012, 1013, 1014, 1015, 1016, 1017, 1018, 1019, 1020, 1021, 1022, 1023, 1024, 1025, 1026, 1027, 1028, 1029, 1030, 1031, 1032, 1033, 1034, 1035], 'x': {'__ndarray__': 'tLWVyvWBF0F4ignxM4wXQerYrHfpqxdB1i5K04YQGEFalEgXyXkXQQf11tGqCBhB+onlIenkF0FvNwGbHOMXQVgIHGOo3BdBO2ixAnNSF0Gy5dAdz4wXQbgBZ+p0XRdBFWD4kDhYF0Ff2ZGrkpQXQZSLA628zRdBvMS+A55kF0G+Sv6SREsXQdTM6okvpRdBjrKjR2qGF0FAnfA+FUkXQWJaTG/WvBdB5eMA+ZjlF0G29JSnBwQYQZGXfwHtOxhBbiCGBfkCGEFMm7GWmB8YQTxeOBGonRdBUOiHZRPZF0EeBK4zeMUXQUrArrVMkxdBXhVcJyGFF0HQBdLvTH0XQQZZIEHaeRdBCFVKbZyQF0Gf6buxxygYQQ==', 'shape': (35,), 'dtype': 'float64'}, 'index': [0, 1, 2, 3, 4, 5, 6, 7, 8, 9, 10, 11, 12, 13, 14, 15, 16, 17, 18, 19, 20, 21, 22, 23, 24, 25, 26, 27, 28, 29, 30, 31, 32, 33, 34], 'y': {'__ndarray__': 'DLvbqpZzWUEJjKomu3NZQT2Zws+SdVlBRdVYeVZ4WUGRyEcoUnJZQUCYsbOSellBG9xu4DV3WUHxNgCiDH9ZQbFWmCTBfVlBnHVhH5F5WUFZ6Vum33NZQc3lYjxwellBuX3tDHx7WUHB+CY+WXlZQVdJ60l9fFlBow3xHwZ5WUE7GuBXbHxZQXvdW2ohellBctNt9+B2WUHXU4nswXlZQRco9Bqse1lB8m9gS617WUFs7M4k1ndZQeW+qXmAd1lB9CwZgZJ5WUGmvBh05HpZQZ+8B6OodVlB/g5h2zl2WUGidXywonVZQVC8i9fAdFlBb8pv8bNzWUEwo7cRO3NZQT80u4WXcllBJ84J6fFzWUHyKELdUHdZQQ==', 'shape': (35,), 'dtype': 'float64'}},</div></div><div class=\"1114\" style=\"display: none;\"><div style=\"display: table-cell;\"></div><div style=\"display: table-cell;\">js_event_callbacks&nbsp;=&nbsp;{},</div></div><div class=\"1114\" style=\"display: none;\"><div style=\"display: table-cell;\"></div><div style=\"display: table-cell;\">js_property_callbacks&nbsp;=&nbsp;{},</div></div><div class=\"1114\" style=\"display: none;\"><div style=\"display: table-cell;\"></div><div style=\"display: table-cell;\">name&nbsp;=&nbsp;None,</div></div><div class=\"1114\" style=\"display: none;\"><div style=\"display: table-cell;\"></div><div style=\"display: table-cell;\">selected&nbsp;=&nbsp;Selection(id='1117', ...),</div></div><div class=\"1114\" style=\"display: none;\"><div style=\"display: table-cell;\"></div><div style=\"display: table-cell;\">selection_policy&nbsp;=&nbsp;UnionRenderers(id='1116', ...),</div></div><div class=\"1114\" style=\"display: none;\"><div style=\"display: table-cell;\"></div><div style=\"display: table-cell;\">subscribed_events&nbsp;=&nbsp;[],</div></div><div class=\"1114\" style=\"display: none;\"><div style=\"display: table-cell;\"></div><div style=\"display: table-cell;\">tags&nbsp;=&nbsp;[])</div></div></div>\n",
       "<script>\n",
       "(function() {\n",
       "  var expanded = false;\n",
       "  var ellipsis = document.getElementById(\"1115\");\n",
       "  ellipsis.addEventListener(\"click\", function() {\n",
       "    var rows = document.getElementsByClassName(\"1114\");\n",
       "    for (var i = 0; i < rows.length; i++) {\n",
       "      var el = rows[i];\n",
       "      el.style.display = expanded ? \"none\" : \"table-row\";\n",
       "    }\n",
       "    ellipsis.innerHTML = expanded ? \"&hellip;)\" : \"&lsaquo;&lsaquo;&lsaquo;\";\n",
       "    expanded = !expanded;\n",
       "  });\n",
       "})();\n",
       "</script>\n"
      ],
      "text/plain": [
       "ColumnDataSource(id='1113', ...)"
      ]
     },
     "execution_count": 10,
     "metadata": {},
     "output_type": "execute_result"
    }
   ],
   "source": [
    "#Turn DataFrame into ColumnDataSource\n",
    "psource=ColumnDataSource(points)\n",
    "psource"
   ]
  },
  {
   "cell_type": "code",
   "execution_count": 11,
   "metadata": {},
   "outputs": [
    {
     "data": {
      "text/plain": [
       "'C:\\\\Users\\\\kangyuwang\\\\OneDrive\\\\portfolio\\\\python_geo\\\\Lesson 5\\\\point_map.html'"
      ]
     },
     "execution_count": 11,
     "metadata": {},
     "output_type": "execute_result"
    }
   ],
   "source": [
    "p=figure(title=\"A map of address points from a shapefiles\")\n",
    "p.circle(\"x\", \"y\", source=psource, color=\"red\", size=10)\n",
    "save(obj=p, filename=\"point_map.html\")"
   ]
  },
  {
   "cell_type": "code",
   "execution_count": 12,
   "metadata": {},
   "outputs": [
    {
     "data": {
      "text/plain": [
       "'C:\\\\Users\\\\kangyuwang\\\\OneDrive\\\\portfolio\\\\python_geo\\\\Lesson 5\\\\point_map_hover.html'"
      ]
     },
     "execution_count": 12,
     "metadata": {},
     "output_type": "execute_result"
    }
   ],
   "source": [
    "#Adding interactivity to the map \n",
    "##Import HoverTool\n",
    "from bokeh.models import HoverTool\n",
    "my_hover=HoverTool()\n",
    "##Define Tooltips \n",
    "my_hover.tooltips=[(\"Address of the Point\", \"@address\")]\n",
    "p.add_tools(my_hover)\n",
    "save(obj=p, filename=\"point_map_hover.html\")"
   ]
  },
  {
   "cell_type": "code",
   "execution_count": 13,
   "metadata": {},
   "outputs": [
    {
     "data": {
      "text/html": [
       "<div>\n",
       "<style scoped>\n",
       "    .dataframe tbody tr th:only-of-type {\n",
       "        vertical-align: middle;\n",
       "    }\n",
       "\n",
       "    .dataframe tbody tr th {\n",
       "        vertical-align: top;\n",
       "    }\n",
       "\n",
       "    .dataframe thead th {\n",
       "        text-align: right;\n",
       "    }\n",
       "</style>\n",
       "<table border=\"1\" class=\"dataframe\">\n",
       "  <thead>\n",
       "    <tr style=\"text-align: right;\">\n",
       "      <th></th>\n",
       "      <th>NUMERO</th>\n",
       "      <th>SUUNTA</th>\n",
       "      <th>geometry</th>\n",
       "    </tr>\n",
       "  </thead>\n",
       "  <tbody>\n",
       "    <tr>\n",
       "      <td>0</td>\n",
       "      <td>1300M</td>\n",
       "      <td>1</td>\n",
       "      <td>LINESTRING (395360.222060516 6679514.826319194...</td>\n",
       "    </tr>\n",
       "    <tr>\n",
       "      <td>1</td>\n",
       "      <td>1300M</td>\n",
       "      <td>2</td>\n",
       "      <td>LINESTRING (384223.529403562 6671360.762176151...</td>\n",
       "    </tr>\n",
       "    <tr>\n",
       "      <td>2</td>\n",
       "      <td>1300M1</td>\n",
       "      <td>1</td>\n",
       "      <td>LINESTRING (395360.222060516 6679514.826319194...</td>\n",
       "    </tr>\n",
       "    <tr>\n",
       "      <td>3</td>\n",
       "      <td>1300M1</td>\n",
       "      <td>2</td>\n",
       "      <td>LINESTRING (393483.9532311981 6676347.80259114...</td>\n",
       "    </tr>\n",
       "    <tr>\n",
       "      <td>4</td>\n",
       "      <td>1300M2</td>\n",
       "      <td>1</td>\n",
       "      <td>LINESTRING (393483.9532311981 6676347.80259114...</td>\n",
       "    </tr>\n",
       "  </tbody>\n",
       "</table>\n",
       "</div>"
      ],
      "text/plain": [
       "   NUMERO  SUUNTA                                           geometry\n",
       "0   1300M       1  LINESTRING (395360.222060516 6679514.826319194...\n",
       "1   1300M       2  LINESTRING (384223.529403562 6671360.762176151...\n",
       "2  1300M1       1  LINESTRING (395360.222060516 6679514.826319194...\n",
       "3  1300M1       2  LINESTRING (393483.9532311981 6676347.80259114...\n",
       "4  1300M2       1  LINESTRING (393483.9532311981 6676347.80259114..."
      ]
     },
     "execution_count": 13,
     "metadata": {},
     "output_type": "execute_result"
    }
   ],
   "source": [
    "#Line maps\n",
    "metro.head()"
   ]
  },
  {
   "cell_type": "code",
   "execution_count": 14,
   "metadata": {},
   "outputs": [
    {
     "data": {
      "text/html": [
       "<div>\n",
       "<style scoped>\n",
       "    .dataframe tbody tr th:only-of-type {\n",
       "        vertical-align: middle;\n",
       "    }\n",
       "\n",
       "    .dataframe tbody tr th {\n",
       "        vertical-align: top;\n",
       "    }\n",
       "\n",
       "    .dataframe thead th {\n",
       "        text-align: right;\n",
       "    }\n",
       "</style>\n",
       "<table border=\"1\" class=\"dataframe\">\n",
       "  <thead>\n",
       "    <tr style=\"text-align: right;\">\n",
       "      <th></th>\n",
       "      <th>NUMERO</th>\n",
       "      <th>SUUNTA</th>\n",
       "      <th>geometry</th>\n",
       "      <th>x</th>\n",
       "      <th>y</th>\n",
       "    </tr>\n",
       "  </thead>\n",
       "  <tbody>\n",
       "    <tr>\n",
       "      <td>0</td>\n",
       "      <td>1300M</td>\n",
       "      <td>1</td>\n",
       "      <td>LINESTRING (395360.222060516 6679514.826319194...</td>\n",
       "      <td>[395360.22206051595, 393873.25958299276, 39379...</td>\n",
       "      <td>[6679514.826319194, 6679253.214463393, 6679209...</td>\n",
       "    </tr>\n",
       "    <tr>\n",
       "      <td>1</td>\n",
       "      <td>1300M</td>\n",
       "      <td>2</td>\n",
       "      <td>LINESTRING (384223.529403562 6671360.762176151...</td>\n",
       "      <td>[384223.529403562, 384451.2296691205, 384571.1...</td>\n",
       "      <td>[6671360.762176151, 6671372.425183229, 6671389...</td>\n",
       "    </tr>\n",
       "    <tr>\n",
       "      <td>2</td>\n",
       "      <td>1300M1</td>\n",
       "      <td>1</td>\n",
       "      <td>LINESTRING (395360.222060516 6679514.826319194...</td>\n",
       "      <td>[395360.22206051595, 393873.25958299276, 39379...</td>\n",
       "      <td>[6679514.826319194, 6679253.214463393, 6679209...</td>\n",
       "    </tr>\n",
       "    <tr>\n",
       "      <td>3</td>\n",
       "      <td>1300M1</td>\n",
       "      <td>2</td>\n",
       "      <td>LINESTRING (393483.9532311981 6676347.80259114...</td>\n",
       "      <td>[393483.9532311981, 393636.56340274215, 393729...</td>\n",
       "      <td>[6676347.80259114, 6676424.923500663, 6676486....</td>\n",
       "    </tr>\n",
       "    <tr>\n",
       "      <td>4</td>\n",
       "      <td>1300M2</td>\n",
       "      <td>1</td>\n",
       "      <td>LINESTRING (393483.9532311981 6676347.80259114...</td>\n",
       "      <td>[393483.9532311981, 393178.4064846945, 393011....</td>\n",
       "      <td>[6676347.80259114, 6676274.632699818, 6676231....</td>\n",
       "    </tr>\n",
       "  </tbody>\n",
       "</table>\n",
       "</div>"
      ],
      "text/plain": [
       "   NUMERO  SUUNTA                                           geometry  \\\n",
       "0   1300M       1  LINESTRING (395360.222060516 6679514.826319194...   \n",
       "1   1300M       2  LINESTRING (384223.529403562 6671360.762176151...   \n",
       "2  1300M1       1  LINESTRING (395360.222060516 6679514.826319194...   \n",
       "3  1300M1       2  LINESTRING (393483.9532311981 6676347.80259114...   \n",
       "4  1300M2       1  LINESTRING (393483.9532311981 6676347.80259114...   \n",
       "\n",
       "                                                   x  \\\n",
       "0  [395360.22206051595, 393873.25958299276, 39379...   \n",
       "1  [384223.529403562, 384451.2296691205, 384571.1...   \n",
       "2  [395360.22206051595, 393873.25958299276, 39379...   \n",
       "3  [393483.9532311981, 393636.56340274215, 393729...   \n",
       "4  [393483.9532311981, 393178.4064846945, 393011....   \n",
       "\n",
       "                                                   y  \n",
       "0  [6679514.826319194, 6679253.214463393, 6679209...  \n",
       "1  [6671360.762176151, 6671372.425183229, 6671389...  \n",
       "2  [6679514.826319194, 6679253.214463393, 6679209...  \n",
       "3  [6676347.80259114, 6676424.923500663, 6676486....  \n",
       "4  [6676347.80259114, 6676274.632699818, 6676231....  "
      ]
     },
     "execution_count": 14,
     "metadata": {},
     "output_type": "execute_result"
    }
   ],
   "source": [
    "metro.loc[:, \"x\"]=metro.loc[:, \"geometry\"].apply(lambda f: list(f.xy[0]))\n",
    "metro.loc[:, \"y\"]=metro.loc[:, \"geometry\"].apply(lambda f: list(f.xy[1]))\n",
    "metro.head()"
   ]
  },
  {
   "cell_type": "code",
   "execution_count": 15,
   "metadata": {},
   "outputs": [
    {
     "data": {
      "text/html": [
       "<div style=\"display: table;\"><div style=\"display: table-row;\"><div style=\"display: table-cell;\"><b title=\"bokeh.models.sources.ColumnDataSource\">ColumnDataSource</b>(</div><div style=\"display: table-cell;\">id&nbsp;=&nbsp;'1305', <span id=\"1307\" style=\"cursor: pointer;\">&hellip;)</span></div></div><div class=\"1306\" style=\"display: none;\"><div style=\"display: table-cell;\"></div><div style=\"display: table-cell;\">callback&nbsp;=&nbsp;None,</div></div><div class=\"1306\" style=\"display: none;\"><div style=\"display: table-cell;\"></div><div style=\"display: table-cell;\">data&nbsp;=&nbsp;{'SUUNTA': [1, 2, 1, 2, 1, 2, 1, 2, 1, 2, 1, 2, 1, 2, 1, 2], 'x': [[395360.22206051595, 393873.25958299276, 393795.229585825, 393719.24073329195, 393614.8273001618, 393418.1703448321, 393378.99349876365, 393326.47689527425, 393318.34431180614, 393325.3340112434, 393360.3769237985, 393409.3555966142, 393446.89195033256, 393552.25050566887, 393599.81938606687, 393810.6161317518, 393823.08918172284, 393819.7784047167, 393797.58259460767, 393766.615061193, 393729.4370676457, 393636.56340274215, 393483.9532311981, 393178.4064846945, 393011.3111486977, 392846.5727677706, 392595.231346985, 392447.2004409366, 392213.51315607975, 392055.99623262935, 391938.15244654927, 391814.0919529915, 391757.5249540933, 391694.204676192, 391630.28599508986, 391609.44798349147, 391493.3706554243, 391421.2458379556, 391354.2373970944, 390962.79957015946, 390907.05828213674, 390831.243329616, 390713.4920112979, 390490.28678540274, 390403.9493990604, 390297.9525373016, 390028.35109594907, 389912.77489885205, 389808.1916068889, 389698.2005887515, 389487.9743719888, 389322.6974467387, 389254.4687934893, 389174.3453208235, 389053.95550662355, 389013.8796856189, 388933.481643675, 388754.4415995544, 388613.271283268, 388451.7085657776, 387824.17360367184, 387696.6168686142, 387352.3392502656, 387250.7515711369, 387136.6247610387, 387074.8388275289, 386949.684351737, 386894.2193368615, 386863.8045169099, 386791.57995889394, 386726.1141211698, 386650.3970064276, 386472.3610018516, 386398.6825615995, 386355.78092311585, 386319.01572514564, 386304.7600339009, 386303.0358960929, 386314.56005883636, 386316.2886504743, 386320.4202708702, 386322.8725452021, 386314.52005330985, 386166.3480038916, 386109.60567277175, 386040.7887336522, 385960.9369803273, 385866.78311503417, 385764.1983530786, 385532.9484765344, 385472.3449868689, 385410.24982151284, 385325.9024941672, 385241.5186122015, 385209.2842822693, 384965.24274215946, 384904.0913013081, 384834.59468810196, 384790.1530941678, 384596.540641063, 384571.1181569303, 384451.2296691205, 384223.529403562], [384223.529403562, 384451.2296691205, 384571.1181569303, 384596.540641063, 384790.1530941678, 384834.59468810196, 384904.0913013081, 384965.24274215946, 385225.1715674978, 385241.5186122015, 385325.9024941672, 385410.24982151284, 385472.3449868689, 385532.9484765344, 385764.1983530786, 385866.78311503417, 385960.9369803273, 386040.7887336522, 386109.60567277175, 386166.3480038916, 386314.52005330985, 386322.8725452021, 386320.4202708702, 386316.2886504743, 386314.56005883636, 386303.0358960929, 386304.7600339009, 386319.01572514564, 386355.78092311585, 386398.6825615995, 386472.3610018516, 386650.3970064276, 386726.1141211698, 386791.57995889394, 386863.8045169099, 386894.2193368615, 386949.684351737, 387074.8388275289, 387136.6247610387, 387250.7515711369, 387352.3392502656, 387696.6168686142, 387825.4017385887, 388451.7085657776, 388613.271283268, 388754.4415995544, 388933.481643675, 389013.8796856189, 389053.95550662355, 389174.3453208235, 389254.4687934893, 389322.6974467387, 389487.9743719888, 389698.2005887515, 389808.1916068889, 389912.77489885205, 390028.35109594907, 390297.9525373016, 390403.9493990604, 390490.28678540274, 390713.4920112979, 390831.243329616, 390907.05828213674, 390962.79957015946, 391354.2373970944, 391421.2458379556, 391493.3706554243, 391607.49968309375, 391630.28599508986, 391694.204676192, 391757.5249540933, 391814.0919529915, 391938.15244654927, 392055.99623262935, 392213.51315607975, 392447.2004409366, 392595.231346985, 392846.5727677706, 393011.3111486977, 393178.4064846945, 393483.9532311981, 393636.56340274215, 393729.4370676457, 393766.615061193, 393797.58259460767, 393819.7784047167, 393823.08918172284, 393810.6161317518, 393599.81938606687, 393552.25050566887, 393446.89195033256, 393409.3555966142, 393360.3769237985, 393325.3340112434, 393318.34431180614, 393326.47689527425, 393378.99349876365, 393418.1703448321, 393614.8273001618, 393719.24073329195, 393795.229585825, 393873.25958299276, 394162.91889995086, 394277.63110228046, 394407.18270781485, 394479.909636707, 394780.4981925318, 394899.7007980159, 395048.1455221366, 395133.21266844193, 395199.3023468609, 395360.22206051595], [395360.22206051595, 393873.25958299276, 393795.229585825, 393719.24073329195, 393614.8273001618, 393418.1703448321, 393378.99349876365, 393326.47689527425, 393318.34431180614, 393325.3340112434, 393360.3769237985, 393409.3555966142, 393446.89195033256, 393552.25050566887, 393599.81938606687, 393810.6161317518, 393823.08918172284, 393819.7784047167, 393797.58259460767, 393766.615061193, 393729.4370676457, 393636.56340274215, 393483.9532311981], [393483.9532311981, 393636.56340274215, 393729.4370676457, 393766.615061193, 393797.58259460767, 393819.7784047167, 393823.08918172284, 393810.6161317518, 393599.81938606687, 393552.25050566887, 393446.89195033256, 393409.3555966142, 393360.3769237985, 393325.3340112434, 393318.34431180614, 393326.47689527425, 393378.99349876365, 393418.1703448321, 393614.8273001618, 393719.24073329195, 393795.229585825, 393873.25958299276, 394162.91889995086, 394277.63110228046, 394407.18270781485, 394479.909636707, 394780.4981925318, 394899.7007980159, 395048.1455221366, 395133.21266844193, 395199.3023468609, 395360.22206051595], [393483.9532311981, 393178.4064846945, 393011.3111486977, 392846.5727677706, 392595.231346985, 392447.2004409366, 392213.51315607975, 392055.99623262935, 391938.15244654927, 391814.0919529915, 391757.5249540933, 391694.204676192, 391630.28599508986, 391609.44798349147, 391493.3706554243, 391421.2458379556, 391354.2373970944, 390962.79957015946, 390907.05828213674, 390831.243329616, 390713.4920112979, 390490.28678540274, 390403.9493990604, 390297.9525373016, 390028.35109594907, 389912.77489885205, 389808.1916068889, 389698.2005887515, 389487.9743719888, 389322.6974467387, 389254.4687934893, 389174.3453208235, 389053.95550662355, 389013.8796856189, 388933.481643675, 388754.4415995544, 388613.271283268, 388451.7085657776, 387824.17360367184, 387696.6168686142, 387352.3392502656, 387250.7515711369, 387136.6247610387, 387074.8388275289, 386949.684351737, 386894.2193368615, 386863.8045169099, 386791.57995889394, 386726.1141211698, 386650.3970064276, 386472.3610018516, 386398.6825615995, 386355.78092311585, 386319.01572514564, 386304.7600339009, 386303.0358960929, 386314.56005883636, 386316.2886504743, 386320.4202708702, 386322.8725452021, 386314.52005330985, 386166.3480038916, 386109.60567277175, 386040.7887336522, 385960.9369803273, 385866.78311503417, 385764.1983530786, 385532.9484765344, 385472.3449868689, 385410.24982151284, 385325.9024941672, 385241.5186122015, 385209.2842822693, 384965.24274215946, 384904.0913013081, 384834.59468810196, 384790.1530941678, 384596.540641063, 384571.1181569303, 384451.2296691205, 384223.529403562], [384223.529403562, 384451.2296691205, 384571.1181569303, 384596.540641063, 384790.1530941678, 384834.59468810196, 384904.0913013081, 384965.24274215946, 385225.1715674978, 385241.5186122015, 385325.9024941672, 385410.24982151284, 385472.3449868689, 385532.9484765344, 385764.1983530786, 385866.78311503417, 385960.9369803273, 386040.7887336522, 386109.60567277175, 386166.3480038916, 386314.52005330985, 386322.8725452021, 386320.4202708702, 386316.2886504743, 386314.56005883636, 386303.0358960929, 386304.7600339009, 386319.01572514564, 386355.78092311585, 386398.6825615995, 386472.3610018516, 386650.3970064276, 386726.1141211698, 386791.57995889394, 386863.8045169099, 386894.2193368615, 386949.684351737, 387074.8388275289, 387136.6247610387, 387250.7515711369, 387352.3392502656, 387696.6168686142, 387825.4017385887, 388451.7085657776, 388613.271283268, 388754.4415995544, 388933.481643675, 389013.8796856189, 389053.95550662355, 389174.3453208235, 389254.4687934893, 389322.6974467387, 389487.9743719888, 389698.2005887515, 389808.1916068889, 389912.77489885205, 390028.35109594907, 390297.9525373016, 390403.9493990604, 390490.28678540274, 390713.4920112979, 390831.243329616, 390907.05828213674, 390962.79957015946, 391354.2373970944, 391421.2458379556, 391493.3706554243, 391607.49968309375, 391630.28599508986, 391694.204676192, 391757.5249540933, 391814.0919529915, 391938.15244654927, 392055.99623262935, 392213.51315607975, 392447.2004409366, 392595.231346985, 392846.5727677706, 393011.3111486977, 393178.4064846945, 393483.9532311981], [395360.22206051595, 393873.25958299276, 393795.229585825, 393719.24073329195, 393614.8273001618, 393418.1703448321, 393378.99349876365, 393326.47689527425, 393318.34431180614, 393325.3340112434, 393360.3769237985, 393409.3555966142, 393446.89195033256, 393552.25050566887, 393599.81938606687, 393810.6161317518, 393823.08918172284, 393819.7784047167, 393797.58259460767, 393766.615061193, 393729.4370676457, 393636.56340274215, 393483.9532311981, 393178.4064846945, 393011.3111486977, 392846.5727677706, 392595.231346985, 392447.2004409366, 392213.51315607975, 392055.99623262935, 391938.15244654927, 391814.0919529915, 391757.5249540933, 391694.204676192, 391630.28599508986, 391609.44798349147, 391493.3706554243, 391421.2458379556, 391354.2373970944, 390962.79957015946, 390907.05828213674, 390831.243329616, 390713.4920112979, 390490.28678540274, 390403.9493990604, 390297.9525373016, 390028.35109594907, 389912.77489885205, 389808.1916068889, 389698.2005887515, 389487.9743719888, 389322.6974467387, 389254.4687934893, 389174.3453208235, 389053.95550662355, 389013.8796856189, 388933.481643675, 388754.4415995544, 388613.271283268, 388451.7085657776, 387824.17360367184, 387696.6168686142, 387352.3392502656, 387250.7515711369, 387136.6247610387, 387074.8388275289, 386949.684351737, 386894.2193368615, 386863.8045169099, 386791.57995889394, 386726.1141211698, 386650.3970064276, 386472.3610018516, 386398.6825615995, 386355.78092311585, 386319.01572514564, 386304.7600339009, 386303.0358960929, 386314.56005883636, 386316.2886504743, 386320.4202708702, 386322.8725452021, 386314.52005330985, 386166.3480038916, 386109.60567277175, 386040.7887336522, 385960.9369803273, 385866.78311503417, 385764.1983530786, 385532.9484765344, 385472.3449868689, 385410.24982151284, 385325.9024941672, 385241.5186122015, 385209.2842822693, 384965.24274215946, 384904.0913013081, 384834.59468810196, 384790.1530941678, 384596.540641063, 384571.1181569303, 384451.2296691205, 384223.529403562], [384223.529403562, 384451.2296691205, 384571.1181569303, 384596.540641063, 384790.1530941678, 384834.59468810196, 384904.0913013081, 384965.24274215946, 385225.1715674978, 385241.5186122015, 385325.9024941672, 385410.24982151284, 385472.3449868689, 385532.9484765344, 385764.1983530786, 385866.78311503417, 385960.9369803273, 386040.7887336522, 386109.60567277175, 386166.3480038916, 386314.52005330985, 386322.8725452021, 386320.4202708702, 386316.2886504743, 386314.56005883636, 386303.0358960929, 386304.7600339009, 386319.01572514564, 386355.78092311585, 386398.6825615995, 386472.3610018516, 386650.3970064276, 386726.1141211698, 386791.57995889394, 386863.8045169099, 386894.2193368615, 386949.684351737, 387074.8388275289, 387136.6247610387, 387250.7515711369, 387352.3392502656, 387696.6168686142, 387825.4017385887, 388451.7085657776, 388613.271283268, 388754.4415995544, 388933.481643675, 389013.8796856189, 389053.95550662355, 389174.3453208235, 389254.4687934893, 389322.6974467387, 389487.9743719888, 389698.2005887515, 389808.1916068889, 389912.77489885205, 390028.35109594907, 390297.9525373016, 390403.9493990604, 390490.28678540274, 390713.4920112979, 390831.243329616, 390907.05828213674, 390962.79957015946, 391354.2373970944, 391421.2458379556, 391493.3706554243, 391607.49968309375, 391630.28599508986, 391694.204676192, 391757.5249540933, 391814.0919529915, 391938.15244654927, 392055.99623262935, 392213.51315607975, 392447.2004409366, 392595.231346985, 392846.5727677706, 393011.3111486977, 393178.4064846945, 393483.9532311981, 393636.56340274215, 393729.4370676457, 393766.615061193, 393797.58259460767, 393819.7784047167, 393823.08918172284, 393810.6161317518, 393599.81938606687, 393552.25050566887, 393446.89195033256, 393409.3555966142, 393360.3769237985, 393325.3340112434, 393318.34431180614, 393326.47689527425, 393378.99349876365, 393418.1703448321, 393614.8273001618, 393719.24073329195, 393795.229585825, 393873.25958299276, 394162.91889995086, 394277.63110228046, 394407.18270781485, 394479.909636707, 394780.4981925318, 394899.7007980159, 395048.1455221366, 395133.21266844193, 395199.3023468609, 395360.22206051595], [397066.97798354167, 396727.30043557787, 396651.8106359014, 396563.9331707002, 396378.13911508914, 396260.5699780421, 396182.9477917646, 396097.9244440569, 396014.4016968019, 395887.47642811516, 395807.22738231684, 395136.58921290096, 395059.0599104506, 395018.06819858646, 394939.0838245438, 394818.3854255432, 394730.0558173908, 394641.21996683447, 394562.18995587435, 394484.0723771726, 394365.32159179635, 394188.10181054333, 394103.7154523367, 394036.71552482544, 393971.2101010938, 393909.1100024663, 393797.58259460767, 393766.615061193, 393729.4370676457, 393636.56340274215, 393483.9532311981, 393178.4064846945, 393011.3111486977, 392846.5727677706, 392595.231346985, 392447.2004409366, 392213.51315607975, 392055.99623262935, 391938.15244654927, 391814.0919529915, 391757.5249540933, 391694.204676192, 391630.28599508986, 391609.44798349147, 391493.3706554243, 391421.2458379556, 391354.2373970944, 390962.79957015946, 390907.05828213674, 390831.243329616, 390713.4920112979, 390490.28678540274, 390403.9493990604, 390297.9525373016, 390028.35109594907, 389912.77489885205, 389808.1916068889, 389698.2005887515, 389487.9743719888, 389322.6974467387, 389254.4687934893, 389174.3453208235, 389053.95550662355, 389013.8796856189, 388933.481643675, 388754.4415995544, 388613.271283268, 388451.7085657776, 387824.17360367184, 387696.6168686142, 387352.3392502656, 387250.7515711369, 387136.6247610387, 387074.8388275289, 386949.684351737, 386894.2193368615, 386863.8045169099, 386791.57995889394, 386726.1141211698, 386650.3970064276, 386472.3610018516, 386398.6825615995, 386355.78092311585, 386319.01572514564, 386304.7600339009, 386303.0358960929, 386314.56005883636, 386316.2886504743, 386320.4202708702, 386322.8725452021, 386314.52005330985, 386166.3480038916, 386109.60567277175, 386040.7887336522, 385960.9369803273, 385866.78311503417, 385764.1983530786, 385532.9484765344, 385472.3449868689, 385410.24982151284, 385325.9024941672, 385241.5186122015, 385209.2842822693, 384965.24274215946, 384904.0913013081, 384834.59468810196, 384790.1530941678, 384596.540641063, 384571.1181569303, 384451.2296691205, 384223.529403562], [384223.529403562, 384451.2296691205, 384571.1181569303, 384596.540641063, 384790.1530941678, 384834.59468810196, 384904.0913013081, 384965.24274215946, 385225.1715674978, 385241.5186122015, 385325.9024941672, 385410.24982151284, 385472.3449868689, 385532.9484765344, 385764.1983530786, 385866.78311503417, 385960.9369803273, 386040.7887336522, 386109.60567277175, 386166.3480038916, 386314.52005330985, 386322.8725452021, 386320.4202708702, 386316.2886504743, 386314.56005883636, 386303.0358960929, 386304.7600339009, 386319.01572514564, 386355.78092311585, 386398.6825615995, 386472.3610018516, 386650.3970064276, 386726.1141211698, 386791.57995889394, 386863.8045169099, 386894.2193368615, 386949.684351737, 387074.8388275289, 387136.6247610387, 387250.7515711369, 387352.3392502656, 387696.6168686142, 387825.4017385887, 388451.7085657776, 388613.271283268, 388754.4415995544, 388933.481643675, 389013.8796856189, 389053.95550662355, 389174.3453208235, 389254.4687934893, 389322.6974467387, 389487.9743719888, 389698.2005887515, 389808.1916068889, 389912.77489885205, 390028.35109594907, 390297.9525373016, 390403.9493990604, 390490.28678540274, 390713.4920112979, 390831.243329616, 390907.05828213674, 390962.79957015946, 391354.2373970944, 391421.2458379556, 391493.3706554243, 391607.49968309375, 391630.28599508986, 391694.204676192, 391757.5249540933, 391814.0919529915, 391938.15244654927, 392055.99623262935, 392213.51315607975, 392447.2004409366, 392595.231346985, 392846.5727677706, 393011.3111486977, 393178.4064846945, 393483.9532311981, 393636.56340274215, 393729.4370676457, 393766.615061193, 393797.58259460767, 393909.1100024663, 393971.2101010938, 394036.71552482544, 394103.7154523367, 394188.10181054333, 394365.32159179635, 394484.0723771726, 394562.18995587435, 394641.21996683447, 394730.0558173908, 394818.3854255432, 394939.0838245438, 395018.06819858646, 395059.0599104506, 395136.58921290096, 395807.22738231684, 397066.97798354167], [397066.97798354167, 396727.30043557787, 396651.8106359014, 396563.9331707002, 396378.13911508914, 396260.5699780421, 396182.9477917646, 396097.9244440569, 396014.4016968019, 395887.47642811516, 395807.22738231684, 395136.58921290096, 395059.0599104506, 395018.06819858646, 394939.0838245438, 394818.3854255432, 394730.0558173908, 394641.21996683447, 394562.18995587435, 394484.0723771726, 394365.32159179635, 394188.10181054333, 394103.7154523367, 394036.71552482544, 393971.2101010938, 393909.1100024663, 393797.58259460767, 393766.615061193, 393729.4370676457, 393636.56340274215, 393483.9532311981, 393178.4064846945, 393011.3111486977, 392846.5727677706, 392595.231346985, 392447.2004409366, 392213.51315607975, 392055.99623262935, 391938.15244654927, 391814.0919529915, 391757.5249540933, 391694.204676192, 391630.28599508986, 391609.44798349147, 391493.3706554243, 391421.2458379556, 391354.2373970944, 390962.79957015946, 390907.05828213674, 390831.243329616, 390713.4920112979, 390490.28678540274, 390403.9493990604, 390297.9525373016, 390028.35109594907, 389912.77489885205, 389808.1916068889, 389698.2005887515, 389487.9743719888, 389322.6974467387, 389254.4687934893, 389174.3453208235, 389053.95550662355, 389013.8796856189, 388933.481643675, 388754.4415995544, 388613.271283268, 388451.7085657776, 387824.17360367184, 387696.6168686142, 387352.3392502656, 387250.7515711369, 387136.6247610387, 387074.8388275289, 386949.684351737, 386894.2193368615, 386863.8045169099, 386791.57995889394, 386726.1141211698, 386650.3970064276, 386472.3610018516, 386398.6825615995, 386355.78092311585, 386319.01572514564, 386304.7600339009, 386303.0358960929, 386314.56005883636, 386316.2886504743, 386320.4202708702, 386322.8725452021, 386314.52005330985, 386166.3480038916, 386109.60567277175, 386040.7887336522, 385960.9369803273, 385866.78311503417, 385764.1983530786], [385764.1983530786, 385866.78311503417, 385960.9369803273, 386040.7887336522, 386109.60567277175, 386166.3480038916, 386314.52005330985, 386322.8725452021, 386320.4202708702, 386316.2886504743, 386314.56005883636, 386303.0358960929, 386304.7600339009, 386319.01572514564, 386355.78092311585, 386398.6825615995, 386472.3610018516, 386650.3970064276, 386726.1141211698, 386791.57995889394, 386863.8045169099, 386894.2193368615, 386949.684351737, 387074.8388275289, 387136.6247610387, 387250.7515711369, 387352.3392502656, 387696.6168686142, 387825.4017385887, 388451.7085657776, 388613.271283268, 388754.4415995544, 388933.481643675, 389013.8796856189, 389053.95550662355, 389174.3453208235, 389254.4687934893, 389322.6974467387, 389487.9743719888, 389698.2005887515, 389808.1916068889, 389912.77489885205, 390028.35109594907, 390297.9525373016, 390403.9493990604, 390490.28678540274, 390713.4920112979, 390831.243329616, 390907.05828213674, 390962.79957015946, 391354.2373970944, 391421.2458379556, 391493.3706554243, 391607.49968309375, 391630.28599508986, 391694.204676192, 391757.5249540933, 391814.0919529915, 391938.15244654927, 392055.99623262935, 392213.51315607975, 392447.2004409366, 392595.231346985, 392846.5727677706, 393011.3111486977, 393178.4064846945, 393483.9532311981, 393636.56340274215, 393729.4370676457, 393766.615061193, 393797.58259460767, 393909.1100024663, 393971.2101010938, 394036.71552482544, 394103.7154523367, 394188.10181054333, 394365.32159179635, 394484.0723771726, 394562.18995587435, 394641.21996683447, 394730.0558173908, 394818.3854255432, 394939.0838245438, 395018.06819858646, 395059.0599104506, 395136.58921290096, 395807.22738231684, 397066.97798354167], [397066.97798354167, 396727.30043557787, 396651.8106359014, 396563.9331707002, 396378.13911508914, 396260.5699780421, 396182.9477917646, 396097.9244440569, 396014.4016968019, 395887.47642811516, 395807.22738231684, 395136.58921290096, 395059.0599104506, 395018.06819858646, 394939.0838245438, 394818.3854255432, 394730.0558173908, 394641.21996683447, 394562.18995587435, 394484.0723771726, 394365.32159179635, 394188.10181054333, 394103.7154523367, 394036.71552482544, 393971.2101010938, 393909.1100024663, 393797.58259460767, 393766.615061193, 393729.4370676457, 393636.56340274215, 393483.9532311981], [393483.9532311981, 393636.56340274215, 393729.4370676457, 393766.615061193, 393797.58259460767, 393909.1100024663, 393971.2101010938, 394036.71552482544, 394103.7154523367, 394188.10181054333, 394365.32159179635, 394484.0723771726, 394562.18995587435, 394641.21996683447, 394730.0558173908, 394818.3854255432, 394939.0838245438, 395018.06819858646, 395059.0599104506, 395136.58921290096, 395807.22738231684, 397066.97798354167], [397066.97798354167, 396727.30043557787, 396651.8106359014, 396563.9331707002, 396378.13911508914, 396260.5699780421, 396182.9477917646, 396097.9244440569, 396014.4016968019, 395887.47642811516, 395807.22738231684, 395136.58921290096, 395059.0599104506, 395018.06819858646, 394939.0838245438, 394818.3854255432, 394730.0558173908, 394641.21996683447, 394562.18995587435, 394484.0723771726, 394365.32159179635, 394188.10181054333, 394103.7154523367, 394036.71552482544, 393971.2101010938, 393909.1100024663, 393797.58259460767, 393766.615061193, 393729.4370676457, 393636.56340274215, 393483.9532311981, 393178.4064846945, 393011.3111486977, 392846.5727677706, 392595.231346985, 392447.2004409366, 392213.51315607975, 392055.99623262935, 391938.15244654927, 391814.0919529915, 391757.5249540933, 391694.204676192, 391630.28599508986, 391609.44798349147, 391493.3706554243, 391421.2458379556, 391354.2373970944, 390962.79957015946, 390907.05828213674, 390831.243329616, 390713.4920112979, 390490.28678540274, 390403.9493990604, 390297.9525373016, 390028.35109594907, 389912.77489885205, 389808.1916068889, 389698.2005887515, 389487.9743719888, 389322.6974467387, 389254.4687934893, 389174.3453208235, 389053.95550662355, 389013.8796856189, 388933.481643675, 388754.4415995544, 388613.271283268, 388451.7085657776, 387824.17360367184, 387696.6168686142, 387352.3392502656, 387250.7515711369, 387136.6247610387, 387074.8388275289, 386949.684351737, 386894.2193368615, 386863.8045169099, 386791.57995889394, 386726.1141211698, 386650.3970064276, 386472.3610018516, 386398.6825615995, 386355.78092311585, 386319.01572514564, 386304.7600339009, 386303.0358960929, 386314.56005883636, 386316.2886504743, 386320.4202708702, 386322.8725452021, 386314.52005330985, 386166.3480038916, 386109.60567277175, 386040.7887336522, 385960.9369803273, 385866.78311503417, 385764.1983530786, 385532.9484765344, 385472.3449868689, 385410.24982151284, 385325.9024941672, 385241.5186122015, 385209.2842822693, 384965.24274215946, 384904.0913013081, 384834.59468810196, 384790.1530941678, 384596.540641063, 384571.1181569303, 384451.2296691205, 384223.529403562], [384223.529403562, 384451.2296691205, 384571.1181569303, 384596.540641063, 384790.1530941678, 384834.59468810196, 384904.0913013081, 384965.24274215946, 385225.1715674978, 385241.5186122015, 385325.9024941672, 385410.24982151284, 385472.3449868689, 385532.9484765344, 385764.1983530786, 385866.78311503417, 385960.9369803273, 386040.7887336522, 386109.60567277175, 386166.3480038916, 386314.52005330985, 386322.8725452021, 386320.4202708702, 386316.2886504743, 386314.56005883636, 386303.0358960929, 386304.7600339009, 386319.01572514564, 386355.78092311585, 386398.6825615995, 386472.3610018516, 386650.3970064276, 386726.1141211698, 386791.57995889394, 386863.8045169099, 386894.2193368615, 386949.684351737, 387074.8388275289, 387136.6247610387, 387250.7515711369, 387352.3392502656, 387696.6168686142, 387825.4017385887, 388451.7085657776, 388613.271283268, 388754.4415995544, 388933.481643675, 389013.8796856189, 389053.95550662355, 389174.3453208235, 389254.4687934893, 389322.6974467387, 389487.9743719888, 389698.2005887515, 389808.1916068889, 389912.77489885205, 390028.35109594907, 390297.9525373016, 390403.9493990604, 390490.28678540274, 390713.4920112979, 390831.243329616, 390907.05828213674, 390962.79957015946, 391354.2373970944, 391421.2458379556, 391493.3706554243, 391607.49968309375, 391630.28599508986, 391694.204676192, 391757.5249540933, 391814.0919529915, 391938.15244654927, 392055.99623262935, 392213.51315607975, 392447.2004409366, 392595.231346985, 392846.5727677706, 393011.3111486977, 393178.4064846945, 393483.9532311981, 393636.56340274215, 393729.4370676457, 393766.615061193, 393797.58259460767, 393909.1100024663, 393971.2101010938, 394036.71552482544, 394103.7154523367, 394188.10181054333, 394365.32159179635, 394484.0723771726, 394562.18995587435, 394641.21996683447, 394730.0558173908, 394818.3854255432, 394939.0838245438, 395018.06819858646, 395059.0599104506, 395136.58921290096, 395807.22738231684, 397066.97798354167]], 'index': [0, 1, 2, 3, 4, 5, 6, 7, 8, 9, 10, 11, 12, 13, 14, 15], 'NUMERO': ['1300M', '1300M', '1300M1', '1300M1', '1300M2', '1300M2', '1300M3', '1300M3', '1300V', '1300V', '1300V1', '1300V1', '1300V2', '1300V2', '1300V3', '1300V3'], 'y': [[6679514.826319194, 6679253.214463393, 6679209.728597036, 6679145.139839523, 6678961.7492983565, 6678598.428117882, 6678507.141017847, 6678364.420882067, 6678317.7558345115, 6678229.37388704, 6678141.718071111, 6678052.427569907, 6677975.668923801, 6677783.739107185, 6677685.504275427, 6676973.419108816, 6676763.69275303, 6676646.76181144, 6676598.734386076, 6676534.099613849, 6676486.753418344, 6676424.923500663, 6676347.80259114, 6676274.632699818, 6676231.191718651, 6676195.65115835, 6676192.075141749, 6676193.801219812, 6676226.437933327, 6676239.605907107, 6676200.9319467805, 6676157.535808905, 6676124.083262113, 6676073.921415372, 6676010.784255917, 6675948.681135628, 6675816.857152018, 6675705.055825725, 6675596.024698879, 6674998.369152989, 6674894.821169789, 6674746.16139738, 6674687.462995008, 6674576.523714242, 6674504.395401096, 6674418.146291975, 6674233.25224566, 6674178.458379549, 6674145.186028745, 6674125.172086887, 6674101.707118697, 6674054.177324221, 6674028.260874571, 6673982.86572199, 6673910.272858457, 6673887.080405972, 6673857.713199041, 6673815.81364093, 6673814.223369871, 6673848.594218843, 6674023.224264363, 6674057.05038678, 6674166.763348318, 6674199.409020948, 6674198.591447134, 6674182.38166846, 6674137.0312933475, 6674083.517863997, 6674030.857576648, 6673917.056153691, 6673841.965672942, 6673783.366882284, 6673697.387922616, 6673639.68732172, 6673576.5937035065, 6673494.202437408, 6673422.7897059815, 6673296.774255776, 6673220.195719505, 6673148.066395658, 6672996.760208132, 6672654.392711293, 6672624.752896864, 6672403.313816476, 6672299.808718585, 6672238.893715196, 6672199.49089348, 6672175.742868037, 6672164.399855299, 6672162.898903915, 6672150.638689378, 6672127.445428388, 6672077.235937947, 6672026.037096178, 6672043.507990535, 6671826.424917894, 6671758.15416404, 6671594.187787005, 6671541.163291178, 6671398.853578071, 6671389.999115437, 6671372.425183229, 6671360.762176151], [6671360.762176151, 6671372.425183229, 6671389.999115437, 6671398.853578071, 6671541.163291178, 6671594.187787005, 6671758.15416404, 6671826.424917894, 6672018.772203394, 6672026.037096178, 6672077.235937947, 6672127.445428388, 6672150.638689378, 6672162.898903915, 6672164.399855299, 6672175.742868037, 6672199.49089348, 6672238.893715196, 6672299.808718585, 6672403.313816476, 6672624.752896864, 6672654.392711293, 6672996.760208132, 6673148.066395658, 6673220.195719505, 6673296.774255776, 6673422.7897059815, 6673494.202437408, 6673576.5937035065, 6673639.68732172, 6673697.387922616, 6673783.366882284, 6673841.965672942, 6673917.056153691, 6674030.857576648, 6674083.517863997, 6674137.0312933475, 6674182.38166846, 6674198.591447134, 6674199.409020948, 6674166.763348318, 6674057.05038678, 6674028.173317741, 6673848.594218843, 6673814.223369871, 6673815.81364093, 6673857.713199041, 6673887.080405972, 6673910.272858457, 6673982.86572199, 6674028.260874571, 6674054.177324221, 6674101.707118697, 6674125.172086887, 6674145.186028745, 6674178.458379549, 6674233.25224566, 6674418.146291975, 6674504.395401096, 6674576.523714242, 6674687.462995008, 6674746.16139738, 6674894.821169789, 6674998.369152989, 6675596.024698879, 6675705.055825725, 6675816.857152018, 6675949.770683493, 6676010.784255917, 6676073.921415372, 6676124.083262113, 6676157.535808905, 6676200.9319467805, 6676239.605907107, 6676226.437933327, 6676193.801219812, 6676192.075141749, 6676195.65115835, 6676231.191718651, 6676274.632699818, 6676347.80259114, 6676424.923500663, 6676486.753418344, 6676534.099613849, 6676598.734386076, 6676646.76181144, 6676763.69275303, 6676973.419108816, 6677685.504275427, 6677783.739107185, 6677975.668923801, 6678052.427569907, 6678141.718071111, 6678229.37388704, 6678317.7558345115, 6678364.420882067, 6678507.141017847, 6678598.428117882, 6678961.7492983565, 6679145.139839523, 6679209.728597036, 6679253.214463393, 6679373.136839701, 6679408.948468506, 6679419.0713474825, 6679411.759729224, 6679354.056389445, 6679356.642362778, 6679385.914883783, 6679408.060462685, 6679431.07918164, 6679514.826319194], [6679514.826319194, 6679253.214463393, 6679209.728597036, 6679145.139839523, 6678961.7492983565, 6678598.428117882, 6678507.141017847, 6678364.420882067, 6678317.7558345115, 6678229.37388704, 6678141.718071111, 6678052.427569907, 6677975.668923801, 6677783.739107185, 6677685.504275427, 6676973.419108816, 6676763.69275303, 6676646.76181144, 6676598.734386076, 6676534.099613849, 6676486.753418344, 6676424.923500663, 6676347.80259114], [6676347.80259114, 6676424.923500663, 6676486.753418344, 6676534.099613849, 6676598.734386076, 6676646.76181144, 6676763.69275303, 6676973.419108816, 6677685.504275427, 6677783.739107185, 6677975.668923801, 6678052.427569907, 6678141.718071111, 6678229.37388704, 6678317.7558345115, 6678364.420882067, 6678507.141017847, 6678598.428117882, 6678961.7492983565, 6679145.139839523, 6679209.728597036, 6679253.214463393, 6679373.136839701, 6679408.948468506, 6679419.0713474825, 6679411.759729224, 6679354.056389445, 6679356.642362778, 6679385.914883783, 6679408.060462685, 6679431.07918164, 6679514.826319194], [6676347.80259114, 6676274.632699818, 6676231.191718651, 6676195.65115835, 6676192.075141749, 6676193.801219812, 6676226.437933327, 6676239.605907107, 6676200.9319467805, 6676157.535808905, 6676124.083262113, 6676073.921415372, 6676010.784255917, 6675948.681135628, 6675816.857152018, 6675705.055825725, 6675596.024698879, 6674998.369152989, 6674894.821169789, 6674746.16139738, 6674687.462995008, 6674576.523714242, 6674504.395401096, 6674418.146291975, 6674233.25224566, 6674178.458379549, 6674145.186028745, 6674125.172086887, 6674101.707118697, 6674054.177324221, 6674028.260874571, 6673982.86572199, 6673910.272858457, 6673887.080405972, 6673857.713199041, 6673815.81364093, 6673814.223369871, 6673848.594218843, 6674023.224264363, 6674057.05038678, 6674166.763348318, 6674199.409020948, 6674198.591447134, 6674182.38166846, 6674137.0312933475, 6674083.517863997, 6674030.857576648, 6673917.056153691, 6673841.965672942, 6673783.366882284, 6673697.387922616, 6673639.68732172, 6673576.5937035065, 6673494.202437408, 6673422.7897059815, 6673296.774255776, 6673220.195719505, 6673148.066395658, 6672996.760208132, 6672654.392711293, 6672624.752896864, 6672403.313816476, 6672299.808718585, 6672238.893715196, 6672199.49089348, 6672175.742868037, 6672164.399855299, 6672162.898903915, 6672150.638689378, 6672127.445428388, 6672077.235937947, 6672026.037096178, 6672043.507990535, 6671826.424917894, 6671758.15416404, 6671594.187787005, 6671541.163291178, 6671398.853578071, 6671389.999115437, 6671372.425183229, 6671360.762176151], [6671360.762176151, 6671372.425183229, 6671389.999115437, 6671398.853578071, 6671541.163291178, 6671594.187787005, 6671758.15416404, 6671826.424917894, 6672018.772203394, 6672026.037096178, 6672077.235937947, 6672127.445428388, 6672150.638689378, 6672162.898903915, 6672164.399855299, 6672175.742868037, 6672199.49089348, 6672238.893715196, 6672299.808718585, 6672403.313816476, 6672624.752896864, 6672654.392711293, 6672996.760208132, 6673148.066395658, 6673220.195719505, 6673296.774255776, 6673422.7897059815, 6673494.202437408, 6673576.5937035065, 6673639.68732172, 6673697.387922616, 6673783.366882284, 6673841.965672942, 6673917.056153691, 6674030.857576648, 6674083.517863997, 6674137.0312933475, 6674182.38166846, 6674198.591447134, 6674199.409020948, 6674166.763348318, 6674057.05038678, 6674028.173317741, 6673848.594218843, 6673814.223369871, 6673815.81364093, 6673857.713199041, 6673887.080405972, 6673910.272858457, 6673982.86572199, 6674028.260874571, 6674054.177324221, 6674101.707118697, 6674125.172086887, 6674145.186028745, 6674178.458379549, 6674233.25224566, 6674418.146291975, 6674504.395401096, 6674576.523714242, 6674687.462995008, 6674746.16139738, 6674894.821169789, 6674998.369152989, 6675596.024698879, 6675705.055825725, 6675816.857152018, 6675949.770683493, 6676010.784255917, 6676073.921415372, 6676124.083262113, 6676157.535808905, 6676200.9319467805, 6676239.605907107, 6676226.437933327, 6676193.801219812, 6676192.075141749, 6676195.65115835, 6676231.191718651, 6676274.632699818, 6676347.80259114], [6679514.826319194, 6679253.214463393, 6679209.728597036, 6679145.139839523, 6678961.7492983565, 6678598.428117882, 6678507.141017847, 6678364.420882067, 6678317.7558345115, 6678229.37388704, 6678141.718071111, 6678052.427569907, 6677975.668923801, 6677783.739107185, 6677685.504275427, 6676973.419108816, 6676763.69275303, 6676646.76181144, 6676598.734386076, 6676534.099613849, 6676486.753418344, 6676424.923500663, 6676347.80259114, 6676274.632699818, 6676231.191718651, 6676195.65115835, 6676192.075141749, 6676193.801219812, 6676226.437933327, 6676239.605907107, 6676200.9319467805, 6676157.535808905, 6676124.083262113, 6676073.921415372, 6676010.784255917, 6675948.681135628, 6675816.857152018, 6675705.055825725, 6675596.024698879, 6674998.369152989, 6674894.821169789, 6674746.16139738, 6674687.462995008, 6674576.523714242, 6674504.395401096, 6674418.146291975, 6674233.25224566, 6674178.458379549, 6674145.186028745, 6674125.172086887, 6674101.707118697, 6674054.177324221, 6674028.260874571, 6673982.86572199, 6673910.272858457, 6673887.080405972, 6673857.713199041, 6673815.81364093, 6673814.223369871, 6673848.594218843, 6674023.224264363, 6674057.05038678, 6674166.763348318, 6674199.409020948, 6674198.591447134, 6674182.38166846, 6674137.0312933475, 6674083.517863997, 6674030.857576648, 6673917.056153691, 6673841.965672942, 6673783.366882284, 6673697.387922616, 6673639.68732172, 6673576.5937035065, 6673494.202437408, 6673422.7897059815, 6673296.774255776, 6673220.195719505, 6673148.066395658, 6672996.760208132, 6672654.392711293, 6672624.752896864, 6672403.313816476, 6672299.808718585, 6672238.893715196, 6672199.49089348, 6672175.742868037, 6672164.399855299, 6672162.898903915, 6672150.638689378, 6672127.445428388, 6672077.235937947, 6672026.037096178, 6672043.507990535, 6671826.424917894, 6671758.15416404, 6671594.187787005, 6671541.163291178, 6671398.853578071, 6671389.999115437, 6671372.425183229, 6671360.762176151], [6671360.762176151, 6671372.425183229, 6671389.999115437, 6671398.853578071, 6671541.163291178, 6671594.187787005, 6671758.15416404, 6671826.424917894, 6672018.772203394, 6672026.037096178, 6672077.235937947, 6672127.445428388, 6672150.638689378, 6672162.898903915, 6672164.399855299, 6672175.742868037, 6672199.49089348, 6672238.893715196, 6672299.808718585, 6672403.313816476, 6672624.752896864, 6672654.392711293, 6672996.760208132, 6673148.066395658, 6673220.195719505, 6673296.774255776, 6673422.7897059815, 6673494.202437408, 6673576.5937035065, 6673639.68732172, 6673697.387922616, 6673783.366882284, 6673841.965672942, 6673917.056153691, 6674030.857576648, 6674083.517863997, 6674137.0312933475, 6674182.38166846, 6674198.591447134, 6674199.409020948, 6674166.763348318, 6674057.05038678, 6674028.173317741, 6673848.594218843, 6673814.223369871, 6673815.81364093, 6673857.713199041, 6673887.080405972, 6673910.272858457, 6673982.86572199, 6674028.260874571, 6674054.177324221, 6674101.707118697, 6674125.172086887, 6674145.186028745, 6674178.458379549, 6674233.25224566, 6674418.146291975, 6674504.395401096, 6674576.523714242, 6674687.462995008, 6674746.16139738, 6674894.821169789, 6674998.369152989, 6675596.024698879, 6675705.055825725, 6675816.857152018, 6675949.770683493, 6676010.784255917, 6676073.921415372, 6676124.083262113, 6676157.535808905, 6676200.9319467805, 6676239.605907107, 6676226.437933327, 6676193.801219812, 6676192.075141749, 6676195.65115835, 6676231.191718651, 6676274.632699818, 6676347.80259114, 6676424.923500663, 6676486.753418344, 6676534.099613849, 6676598.734386076, 6676646.76181144, 6676763.69275303, 6676973.419108816, 6677685.504275427, 6677783.739107185, 6677975.668923801, 6678052.427569907, 6678141.718071111, 6678229.37388704, 6678317.7558345115, 6678364.420882067, 6678507.141017847, 6678598.428117882, 6678961.7492983565, 6679145.139839523, 6679209.728597036, 6679253.214463393, 6679373.136839701, 6679408.948468506, 6679419.0713474825, 6679411.759729224, 6679354.056389445, 6679356.642362778, 6679385.914883783, 6679408.060462685, 6679431.07918164, 6679514.826319194], [6675939.7128473595, 6675886.102602384, 6675854.512063575, 6675814.476272529, 6675733.860113635, 6675701.1798956385, 6675688.694098631, 6675689.557071043, 6675701.36219682, 6675749.16284067, 6675788.845598754, 6676115.548568877, 6676171.113049168, 6676216.007679005, 6676349.69234069, 6676556.32121865, 6676660.412575286, 6676731.4956840435, 6676776.118258672, 6676796.686569377, 6676826.099213379, 6676824.158257468, 6676816.985006051, 6676796.008772981, 6676763.964101244, 6676718.75217971, 6676598.734386076, 6676534.099613849, 6676486.753418344, 6676424.923500663, 6676347.80259114, 6676274.632699818, 6676231.191718651, 6676195.65115835, 6676192.075141749, 6676193.801219812, 6676226.437933327, 6676239.605907107, 6676200.9319467805, 6676157.535808905, 6676124.083262113, 6676073.921415372, 6676010.784255917, 6675948.681135628, 6675816.857152018, 6675705.055825725, 6675596.024698879, 6674998.369152989, 6674894.821169789, 6674746.16139738, 6674687.462995008, 6674576.523714242, 6674504.395401096, 6674418.146291975, 6674233.25224566, 6674178.458379549, 6674145.186028745, 6674125.172086887, 6674101.707118697, 6674054.177324221, 6674028.260874571, 6673982.86572199, 6673910.272858457, 6673887.080405972, 6673857.713199041, 6673815.81364093, 6673814.223369871, 6673848.594218843, 6674023.224264363, 6674057.05038678, 6674166.763348318, 6674199.409020948, 6674198.591447134, 6674182.38166846, 6674137.0312933475, 6674083.517863997, 6674030.857576648, 6673917.056153691, 6673841.965672942, 6673783.366882284, 6673697.387922616, 6673639.68732172, 6673576.5937035065, 6673494.202437408, 6673422.7897059815, 6673296.774255776, 6673220.195719505, 6673148.066395658, 6672996.760208132, 6672654.392711293, 6672624.752896864, 6672403.313816476, 6672299.808718585, 6672238.893715196, 6672199.49089348, 6672175.742868037, 6672164.399855299, 6672162.898903915, 6672150.638689378, 6672127.445428388, 6672077.235937947, 6672026.037096178, 6672043.507990535, 6671826.424917894, 6671758.15416404, 6671594.187787005, 6671541.163291178, 6671398.853578071, 6671389.999115437, 6671372.425183229, 6671360.762176151], [6671360.762176151, 6671372.425183229, 6671389.999115437, 6671398.853578071, 6671541.163291178, 6671594.187787005, 6671758.15416404, 6671826.424917894, 6672018.772203394, 6672026.037096178, 6672077.235937947, 6672127.445428388, 6672150.638689378, 6672162.898903915, 6672164.399855299, 6672175.742868037, 6672199.49089348, 6672238.893715196, 6672299.808718585, 6672403.313816476, 6672624.752896864, 6672654.392711293, 6672996.760208132, 6673148.066395658, 6673220.195719505, 6673296.774255776, 6673422.7897059815, 6673494.202437408, 6673576.5937035065, 6673639.68732172, 6673697.387922616, 6673783.366882284, 6673841.965672942, 6673917.056153691, 6674030.857576648, 6674083.517863997, 6674137.0312933475, 6674182.38166846, 6674198.591447134, 6674199.409020948, 6674166.763348318, 6674057.05038678, 6674028.173317741, 6673848.594218843, 6673814.223369871, 6673815.81364093, 6673857.713199041, 6673887.080405972, 6673910.272858457, 6673982.86572199, 6674028.260874571, 6674054.177324221, 6674101.707118697, 6674125.172086887, 6674145.186028745, 6674178.458379549, 6674233.25224566, 6674418.146291975, 6674504.395401096, 6674576.523714242, 6674687.462995008, 6674746.16139738, 6674894.821169789, 6674998.369152989, 6675596.024698879, 6675705.055825725, 6675816.857152018, 6675949.770683493, 6676010.784255917, 6676073.921415372, 6676124.083262113, 6676157.535808905, 6676200.9319467805, 6676239.605907107, 6676226.437933327, 6676193.801219812, 6676192.075141749, 6676195.65115835, 6676231.191718651, 6676274.632699818, 6676347.80259114, 6676424.923500663, 6676486.753418344, 6676534.099613849, 6676598.734386076, 6676718.75217971, 6676763.964101244, 6676796.008772981, 6676816.985006051, 6676824.158257468, 6676826.099213379, 6676796.686569377, 6676776.118258672, 6676731.4956840435, 6676660.412575286, 6676556.32121865, 6676349.69234069, 6676216.007679005, 6676171.113049168, 6676115.548568877, 6675788.845598754, 6675939.7128473595], [6675939.7128473595, 6675886.102602384, 6675854.512063575, 6675814.476272529, 6675733.860113635, 6675701.1798956385, 6675688.694098631, 6675689.557071043, 6675701.36219682, 6675749.16284067, 6675788.845598754, 6676115.548568877, 6676171.113049168, 6676216.007679005, 6676349.69234069, 6676556.32121865, 6676660.412575286, 6676731.4956840435, 6676776.118258672, 6676796.686569377, 6676826.099213379, 6676824.158257468, 6676816.985006051, 6676796.008772981, 6676763.964101244, 6676718.75217971, 6676598.734386076, 6676534.099613849, 6676486.753418344, 6676424.923500663, 6676347.80259114, 6676274.632699818, 6676231.191718651, 6676195.65115835, 6676192.075141749, 6676193.801219812, 6676226.437933327, 6676239.605907107, 6676200.9319467805, 6676157.535808905, 6676124.083262113, 6676073.921415372, 6676010.784255917, 6675948.681135628, 6675816.857152018, 6675705.055825725, 6675596.024698879, 6674998.369152989, 6674894.821169789, 6674746.16139738, 6674687.462995008, 6674576.523714242, 6674504.395401096, 6674418.146291975, 6674233.25224566, 6674178.458379549, 6674145.186028745, 6674125.172086887, 6674101.707118697, 6674054.177324221, 6674028.260874571, 6673982.86572199, 6673910.272858457, 6673887.080405972, 6673857.713199041, 6673815.81364093, 6673814.223369871, 6673848.594218843, 6674023.224264363, 6674057.05038678, 6674166.763348318, 6674199.409020948, 6674198.591447134, 6674182.38166846, 6674137.0312933475, 6674083.517863997, 6674030.857576648, 6673917.056153691, 6673841.965672942, 6673783.366882284, 6673697.387922616, 6673639.68732172, 6673576.5937035065, 6673494.202437408, 6673422.7897059815, 6673296.774255776, 6673220.195719505, 6673148.066395658, 6672996.760208132, 6672654.392711293, 6672624.752896864, 6672403.313816476, 6672299.808718585, 6672238.893715196, 6672199.49089348, 6672175.742868037, 6672164.399855299], [6672164.399855299, 6672175.742868037, 6672199.49089348, 6672238.893715196, 6672299.808718585, 6672403.313816476, 6672624.752896864, 6672654.392711293, 6672996.760208132, 6673148.066395658, 6673220.195719505, 6673296.774255776, 6673422.7897059815, 6673494.202437408, 6673576.5937035065, 6673639.68732172, 6673697.387922616, 6673783.366882284, 6673841.965672942, 6673917.056153691, 6674030.857576648, 6674083.517863997, 6674137.0312933475, 6674182.38166846, 6674198.591447134, 6674199.409020948, 6674166.763348318, 6674057.05038678, 6674028.173317741, 6673848.594218843, 6673814.223369871, 6673815.81364093, 6673857.713199041, 6673887.080405972, 6673910.272858457, 6673982.86572199, 6674028.260874571, 6674054.177324221, 6674101.707118697, 6674125.172086887, 6674145.186028745, 6674178.458379549, 6674233.25224566, 6674418.146291975, 6674504.395401096, 6674576.523714242, 6674687.462995008, 6674746.16139738, 6674894.821169789, 6674998.369152989, 6675596.024698879, 6675705.055825725, 6675816.857152018, 6675949.770683493, 6676010.784255917, 6676073.921415372, 6676124.083262113, 6676157.535808905, 6676200.9319467805, 6676239.605907107, 6676226.437933327, 6676193.801219812, 6676192.075141749, 6676195.65115835, 6676231.191718651, 6676274.632699818, 6676347.80259114, 6676424.923500663, 6676486.753418344, 6676534.099613849, 6676598.734386076, 6676718.75217971, 6676763.964101244, 6676796.008772981, 6676816.985006051, 6676824.158257468, 6676826.099213379, 6676796.686569377, 6676776.118258672, 6676731.4956840435, 6676660.412575286, 6676556.32121865, 6676349.69234069, 6676216.007679005, 6676171.113049168, 6676115.548568877, 6675788.845598754, 6675939.7128473595], [6675939.7128473595, 6675886.102602384, 6675854.512063575, 6675814.476272529, 6675733.860113635, 6675701.1798956385, 6675688.694098631, 6675689.557071043, 6675701.36219682, 6675749.16284067, 6675788.845598754, 6676115.548568877, 6676171.113049168, 6676216.007679005, 6676349.69234069, 6676556.32121865, 6676660.412575286, 6676731.4956840435, 6676776.118258672, 6676796.686569377, 6676826.099213379, 6676824.158257468, 6676816.985006051, 6676796.008772981, 6676763.964101244, 6676718.75217971, 6676598.734386076, 6676534.099613849, 6676486.753418344, 6676424.923500663, 6676347.80259114], [6676347.80259114, 6676424.923500663, 6676486.753418344, 6676534.099613849, 6676598.734386076, 6676718.75217971, 6676763.964101244, 6676796.008772981, 6676816.985006051, 6676824.158257468, 6676826.099213379, 6676796.686569377, 6676776.118258672, 6676731.4956840435, 6676660.412575286, 6676556.32121865, 6676349.69234069, 6676216.007679005, 6676171.113049168, 6676115.548568877, 6675788.845598754, 6675939.7128473595], [6675939.7128473595, 6675886.102602384, 6675854.512063575, 6675814.476272529, 6675733.860113635, 6675701.1798956385, 6675688.694098631, 6675689.557071043, 6675701.36219682, 6675749.16284067, 6675788.845598754, 6676115.548568877, 6676171.113049168, 6676216.007679005, 6676349.69234069, 6676556.32121865, 6676660.412575286, 6676731.4956840435, 6676776.118258672, 6676796.686569377, 6676826.099213379, 6676824.158257468, 6676816.985006051, 6676796.008772981, 6676763.964101244, 6676718.75217971, 6676598.734386076, 6676534.099613849, 6676486.753418344, 6676424.923500663, 6676347.80259114, 6676274.632699818, 6676231.191718651, 6676195.65115835, 6676192.075141749, 6676193.801219812, 6676226.437933327, 6676239.605907107, 6676200.9319467805, 6676157.535808905, 6676124.083262113, 6676073.921415372, 6676010.784255917, 6675948.681135628, 6675816.857152018, 6675705.055825725, 6675596.024698879, 6674998.369152989, 6674894.821169789, 6674746.16139738, 6674687.462995008, 6674576.523714242, 6674504.395401096, 6674418.146291975, 6674233.25224566, 6674178.458379549, 6674145.186028745, 6674125.172086887, 6674101.707118697, 6674054.177324221, 6674028.260874571, 6673982.86572199, 6673910.272858457, 6673887.080405972, 6673857.713199041, 6673815.81364093, 6673814.223369871, 6673848.594218843, 6674023.224264363, 6674057.05038678, 6674166.763348318, 6674199.409020948, 6674198.591447134, 6674182.38166846, 6674137.0312933475, 6674083.517863997, 6674030.857576648, 6673917.056153691, 6673841.965672942, 6673783.366882284, 6673697.387922616, 6673639.68732172, 6673576.5937035065, 6673494.202437408, 6673422.7897059815, 6673296.774255776, 6673220.195719505, 6673148.066395658, 6672996.760208132, 6672654.392711293, 6672624.752896864, 6672403.313816476, 6672299.808718585, 6672238.893715196, 6672199.49089348, 6672175.742868037, 6672164.399855299, 6672162.898903915, 6672150.638689378, 6672127.445428388, 6672077.235937947, 6672026.037096178, 6672043.507990535, 6671826.424917894, 6671758.15416404, 6671594.187787005, 6671541.163291178, 6671398.853578071, 6671389.999115437, 6671372.425183229, 6671360.762176151], [6671360.762176151, 6671372.425183229, 6671389.999115437, 6671398.853578071, 6671541.163291178, 6671594.187787005, 6671758.15416404, 6671826.424917894, 6672018.772203394, 6672026.037096178, 6672077.235937947, 6672127.445428388, 6672150.638689378, 6672162.898903915, 6672164.399855299, 6672175.742868037, 6672199.49089348, 6672238.893715196, 6672299.808718585, 6672403.313816476, 6672624.752896864, 6672654.392711293, 6672996.760208132, 6673148.066395658, 6673220.195719505, 6673296.774255776, 6673422.7897059815, 6673494.202437408, 6673576.5937035065, 6673639.68732172, 6673697.387922616, 6673783.366882284, 6673841.965672942, 6673917.056153691, 6674030.857576648, 6674083.517863997, 6674137.0312933475, 6674182.38166846, 6674198.591447134, 6674199.409020948, 6674166.763348318, 6674057.05038678, 6674028.173317741, 6673848.594218843, 6673814.223369871, 6673815.81364093, 6673857.713199041, 6673887.080405972, 6673910.272858457, 6673982.86572199, 6674028.260874571, 6674054.177324221, 6674101.707118697, 6674125.172086887, 6674145.186028745, 6674178.458379549, 6674233.25224566, 6674418.146291975, 6674504.395401096, 6674576.523714242, 6674687.462995008, 6674746.16139738, 6674894.821169789, 6674998.369152989, 6675596.024698879, 6675705.055825725, 6675816.857152018, 6675949.770683493, 6676010.784255917, 6676073.921415372, 6676124.083262113, 6676157.535808905, 6676200.9319467805, 6676239.605907107, 6676226.437933327, 6676193.801219812, 6676192.075141749, 6676195.65115835, 6676231.191718651, 6676274.632699818, 6676347.80259114, 6676424.923500663, 6676486.753418344, 6676534.099613849, 6676598.734386076, 6676718.75217971, 6676763.964101244, 6676796.008772981, 6676816.985006051, 6676824.158257468, 6676826.099213379, 6676796.686569377, 6676776.118258672, 6676731.4956840435, 6676660.412575286, 6676556.32121865, 6676349.69234069, 6676216.007679005, 6676171.113049168, 6676115.548568877, 6675788.845598754, 6675939.7128473595]]},</div></div><div class=\"1306\" style=\"display: none;\"><div style=\"display: table-cell;\"></div><div style=\"display: table-cell;\">js_event_callbacks&nbsp;=&nbsp;{},</div></div><div class=\"1306\" style=\"display: none;\"><div style=\"display: table-cell;\"></div><div style=\"display: table-cell;\">js_property_callbacks&nbsp;=&nbsp;{},</div></div><div class=\"1306\" style=\"display: none;\"><div style=\"display: table-cell;\"></div><div style=\"display: table-cell;\">name&nbsp;=&nbsp;None,</div></div><div class=\"1306\" style=\"display: none;\"><div style=\"display: table-cell;\"></div><div style=\"display: table-cell;\">selected&nbsp;=&nbsp;Selection(id='1309', ...),</div></div><div class=\"1306\" style=\"display: none;\"><div style=\"display: table-cell;\"></div><div style=\"display: table-cell;\">selection_policy&nbsp;=&nbsp;UnionRenderers(id='1308', ...),</div></div><div class=\"1306\" style=\"display: none;\"><div style=\"display: table-cell;\"></div><div style=\"display: table-cell;\">subscribed_events&nbsp;=&nbsp;[],</div></div><div class=\"1306\" style=\"display: none;\"><div style=\"display: table-cell;\"></div><div style=\"display: table-cell;\">tags&nbsp;=&nbsp;[])</div></div></div>\n",
       "<script>\n",
       "(function() {\n",
       "  var expanded = false;\n",
       "  var ellipsis = document.getElementById(\"1307\");\n",
       "  ellipsis.addEventListener(\"click\", function() {\n",
       "    var rows = document.getElementsByClassName(\"1306\");\n",
       "    for (var i = 0; i < rows.length; i++) {\n",
       "      var el = rows[i];\n",
       "      el.style.display = expanded ? \"none\" : \"table-row\";\n",
       "    }\n",
       "    ellipsis.innerHTML = expanded ? \"&hellip;)\" : \"&lsaquo;&lsaquo;&lsaquo;\";\n",
       "    expanded = !expanded;\n",
       "  });\n",
       "})();\n",
       "</script>\n"
      ],
      "text/plain": [
       "ColumnDataSource(id='1305', ...)"
      ]
     },
     "execution_count": 15,
     "metadata": {},
     "output_type": "execute_result"
    }
   ],
   "source": [
    "##Turn DataFrame into ColumnDataSource\n",
    "from bokeh.models import ColumnDataSource\n",
    "metro=metro.drop(\"geometry\", axis=1).copy()\n",
    "msource=ColumnDataSource(metro)\n",
    "msource"
   ]
  },
  {
   "cell_type": "code",
   "execution_count": 16,
   "metadata": {},
   "outputs": [
    {
     "data": {
      "text/plain": [
       "'C:\\\\Users\\\\kangyuwang\\\\OneDrive\\\\portfolio\\\\python_geo\\\\Lesson 5\\\\metro.html'"
      ]
     },
     "execution_count": 16,
     "metadata": {},
     "output_type": "execute_result"
    }
   ],
   "source": [
    "##Make map\n",
    "p=figure(title=\"LineString Map\")\n",
    "p.multi_line(\"x\", \"y\",source=msource, color=\"red\", line_width=3)\n",
    "save(obj=p, filename=\"metro.html\")"
   ]
  },
  {
   "cell_type": "code",
   "execution_count": 17,
   "metadata": {},
   "outputs": [
    {
     "data": {
      "text/plain": [
       "'C:\\\\Users\\\\kangyuwang\\\\OneDrive\\\\portfolio\\\\python_geo\\\\Lesson 5\\\\metro_map_hover.html'"
      ]
     },
     "execution_count": 17,
     "metadata": {},
     "output_type": "execute_result"
    }
   ],
   "source": [
    "##Add Hover\n",
    "from bokeh.models import HoverTool\n",
    "my_hover=HoverTool()\n",
    "##Define Tooltips \n",
    "my_hover.tooltips=[(\"NUMERO\", \"@NUMERO\")]\n",
    "p.add_tools(my_hover)\n",
    "save(obj=p, filename=\"metro_map_hover.html\")"
   ]
  },
  {
   "cell_type": "code",
   "execution_count": 18,
   "metadata": {},
   "outputs": [
    {
     "data": {
      "text/html": [
       "<div>\n",
       "<style scoped>\n",
       "    .dataframe tbody tr th:only-of-type {\n",
       "        vertical-align: middle;\n",
       "    }\n",
       "\n",
       "    .dataframe tbody tr th {\n",
       "        vertical-align: top;\n",
       "    }\n",
       "\n",
       "    .dataframe thead th {\n",
       "        text-align: right;\n",
       "    }\n",
       "</style>\n",
       "<table border=\"1\" class=\"dataframe\">\n",
       "  <thead>\n",
       "    <tr style=\"text-align: right;\">\n",
       "      <th></th>\n",
       "      <th>car_m_d</th>\n",
       "      <th>car_m_t</th>\n",
       "      <th>car_r_d</th>\n",
       "      <th>car_r_t</th>\n",
       "      <th>from_id</th>\n",
       "      <th>pt_m_d</th>\n",
       "      <th>pt_m_t</th>\n",
       "      <th>pt_m_tt</th>\n",
       "      <th>pt_r_d</th>\n",
       "      <th>pt_r_t</th>\n",
       "      <th>pt_r_tt</th>\n",
       "      <th>to_id</th>\n",
       "      <th>walk_d</th>\n",
       "      <th>walk_t</th>\n",
       "      <th>geometry</th>\n",
       "    </tr>\n",
       "  </thead>\n",
       "  <tbody>\n",
       "    <tr>\n",
       "      <td>0</td>\n",
       "      <td>32297</td>\n",
       "      <td>43</td>\n",
       "      <td>32260</td>\n",
       "      <td>48</td>\n",
       "      <td>5785640</td>\n",
       "      <td>32616</td>\n",
       "      <td>116</td>\n",
       "      <td>147</td>\n",
       "      <td>32616</td>\n",
       "      <td>108</td>\n",
       "      <td>139</td>\n",
       "      <td>5975375</td>\n",
       "      <td>32164</td>\n",
       "      <td>459</td>\n",
       "      <td>POLYGON ((382000.0001358641 6697750.000038058,...</td>\n",
       "    </tr>\n",
       "    <tr>\n",
       "      <td>1</td>\n",
       "      <td>32508</td>\n",
       "      <td>43</td>\n",
       "      <td>32471</td>\n",
       "      <td>49</td>\n",
       "      <td>5785641</td>\n",
       "      <td>32822</td>\n",
       "      <td>119</td>\n",
       "      <td>145</td>\n",
       "      <td>32822</td>\n",
       "      <td>111</td>\n",
       "      <td>133</td>\n",
       "      <td>5975375</td>\n",
       "      <td>29547</td>\n",
       "      <td>422</td>\n",
       "      <td>POLYGON ((382250.0001358146 6697750.000038053,...</td>\n",
       "    </tr>\n",
       "    <tr>\n",
       "      <td>2</td>\n",
       "      <td>30133</td>\n",
       "      <td>50</td>\n",
       "      <td>31872</td>\n",
       "      <td>56</td>\n",
       "      <td>5785642</td>\n",
       "      <td>32940</td>\n",
       "      <td>121</td>\n",
       "      <td>146</td>\n",
       "      <td>32940</td>\n",
       "      <td>113</td>\n",
       "      <td>133</td>\n",
       "      <td>5975375</td>\n",
       "      <td>29626</td>\n",
       "      <td>423</td>\n",
       "      <td>POLYGON ((382500.0001357661 6697750.000038046,...</td>\n",
       "    </tr>\n",
       "    <tr>\n",
       "      <td>3</td>\n",
       "      <td>32690</td>\n",
       "      <td>54</td>\n",
       "      <td>34429</td>\n",
       "      <td>60</td>\n",
       "      <td>5785643</td>\n",
       "      <td>33233</td>\n",
       "      <td>125</td>\n",
       "      <td>150</td>\n",
       "      <td>33233</td>\n",
       "      <td>117</td>\n",
       "      <td>144</td>\n",
       "      <td>5975375</td>\n",
       "      <td>29919</td>\n",
       "      <td>427</td>\n",
       "      <td>POLYGON ((382750.0001357181 6697750.000038039,...</td>\n",
       "    </tr>\n",
       "    <tr>\n",
       "      <td>4</td>\n",
       "      <td>31872</td>\n",
       "      <td>42</td>\n",
       "      <td>31834</td>\n",
       "      <td>48</td>\n",
       "      <td>5787544</td>\n",
       "      <td>32127</td>\n",
       "      <td>109</td>\n",
       "      <td>126</td>\n",
       "      <td>32127</td>\n",
       "      <td>101</td>\n",
       "      <td>121</td>\n",
       "      <td>5975375</td>\n",
       "      <td>31674</td>\n",
       "      <td>452</td>\n",
       "      <td>POLYGON ((381250.0001360176 6697500.000038121,...</td>\n",
       "    </tr>\n",
       "  </tbody>\n",
       "</table>\n",
       "</div>"
      ],
      "text/plain": [
       "   car_m_d  car_m_t  car_r_d  car_r_t  from_id  pt_m_d  pt_m_t  pt_m_tt  \\\n",
       "0    32297       43    32260       48  5785640   32616     116      147   \n",
       "1    32508       43    32471       49  5785641   32822     119      145   \n",
       "2    30133       50    31872       56  5785642   32940     121      146   \n",
       "3    32690       54    34429       60  5785643   33233     125      150   \n",
       "4    31872       42    31834       48  5787544   32127     109      126   \n",
       "\n",
       "   pt_r_d  pt_r_t  pt_r_tt    to_id  walk_d  walk_t  \\\n",
       "0   32616     108      139  5975375   32164     459   \n",
       "1   32822     111      133  5975375   29547     422   \n",
       "2   32940     113      133  5975375   29626     423   \n",
       "3   33233     117      144  5975375   29919     427   \n",
       "4   32127     101      121  5975375   31674     452   \n",
       "\n",
       "                                            geometry  \n",
       "0  POLYGON ((382000.0001358641 6697750.000038058,...  \n",
       "1  POLYGON ((382250.0001358146 6697750.000038053,...  \n",
       "2  POLYGON ((382500.0001357661 6697750.000038046,...  \n",
       "3  POLYGON ((382750.0001357181 6697750.000038039,...  \n",
       "4  POLYGON ((381250.0001360176 6697500.000038121,...  "
      ]
     },
     "execution_count": 18,
     "metadata": {},
     "output_type": "execute_result"
    }
   ],
   "source": [
    "grid.head()"
   ]
  },
  {
   "cell_type": "code",
   "execution_count": 19,
   "metadata": {},
   "outputs": [],
   "source": [
    "grid.loc[:, \"x\"]=grid.loc[:, \"geometry\"].apply(lambda f: list(f.exterior.xy[0]))\n",
    "grid.loc[:, \"y\"]=grid.loc[:, \"geometry\"].apply(lambda f: list(f.exterior.xy[1]))"
   ]
  },
  {
   "cell_type": "code",
   "execution_count": 20,
   "metadata": {},
   "outputs": [],
   "source": [
    "grid=grid.replace(-1, 999)"
   ]
  },
  {
   "cell_type": "code",
   "execution_count": 21,
   "metadata": {},
   "outputs": [
    {
     "data": {
      "text/html": [
       "<div>\n",
       "<style scoped>\n",
       "    .dataframe tbody tr th:only-of-type {\n",
       "        vertical-align: middle;\n",
       "    }\n",
       "\n",
       "    .dataframe tbody tr th {\n",
       "        vertical-align: top;\n",
       "    }\n",
       "\n",
       "    .dataframe thead th {\n",
       "        text-align: right;\n",
       "    }\n",
       "</style>\n",
       "<table border=\"1\" class=\"dataframe\">\n",
       "  <thead>\n",
       "    <tr style=\"text-align: right;\">\n",
       "      <th></th>\n",
       "      <th>car_m_d</th>\n",
       "      <th>car_m_t</th>\n",
       "      <th>car_r_d</th>\n",
       "      <th>car_r_t</th>\n",
       "      <th>from_id</th>\n",
       "      <th>pt_m_d</th>\n",
       "      <th>pt_m_t</th>\n",
       "      <th>pt_m_tt</th>\n",
       "      <th>pt_r_d</th>\n",
       "      <th>pt_r_t</th>\n",
       "      <th>pt_r_tt</th>\n",
       "      <th>to_id</th>\n",
       "      <th>walk_d</th>\n",
       "      <th>walk_t</th>\n",
       "      <th>geometry</th>\n",
       "      <th>x</th>\n",
       "      <th>y</th>\n",
       "      <th>pt_r_tt_ud</th>\n",
       "    </tr>\n",
       "  </thead>\n",
       "  <tbody>\n",
       "    <tr>\n",
       "      <td>0</td>\n",
       "      <td>32297</td>\n",
       "      <td>43</td>\n",
       "      <td>32260</td>\n",
       "      <td>48</td>\n",
       "      <td>5785640</td>\n",
       "      <td>32616</td>\n",
       "      <td>116</td>\n",
       "      <td>147</td>\n",
       "      <td>32616</td>\n",
       "      <td>108</td>\n",
       "      <td>139</td>\n",
       "      <td>5975375</td>\n",
       "      <td>32164</td>\n",
       "      <td>459</td>\n",
       "      <td>POLYGON ((382000.0001358641 6697750.000038058,...</td>\n",
       "      <td>[382000.00013586413, 381750.0001359122, 381750...</td>\n",
       "      <td>[6697750.000038058, 6697750.000038066, 6698000...</td>\n",
       "      <td>27</td>\n",
       "    </tr>\n",
       "    <tr>\n",
       "      <td>1</td>\n",
       "      <td>32508</td>\n",
       "      <td>43</td>\n",
       "      <td>32471</td>\n",
       "      <td>49</td>\n",
       "      <td>5785641</td>\n",
       "      <td>32822</td>\n",
       "      <td>119</td>\n",
       "      <td>145</td>\n",
       "      <td>32822</td>\n",
       "      <td>111</td>\n",
       "      <td>133</td>\n",
       "      <td>5975375</td>\n",
       "      <td>29547</td>\n",
       "      <td>422</td>\n",
       "      <td>POLYGON ((382250.0001358146 6697750.000038053,...</td>\n",
       "      <td>[382250.0001358146, 382000.00013586413, 382000...</td>\n",
       "      <td>[6697750.000038053, 6697750.000038058, 6698000...</td>\n",
       "      <td>26</td>\n",
       "    </tr>\n",
       "    <tr>\n",
       "      <td>2</td>\n",
       "      <td>30133</td>\n",
       "      <td>50</td>\n",
       "      <td>31872</td>\n",
       "      <td>56</td>\n",
       "      <td>5785642</td>\n",
       "      <td>32940</td>\n",
       "      <td>121</td>\n",
       "      <td>146</td>\n",
       "      <td>32940</td>\n",
       "      <td>113</td>\n",
       "      <td>133</td>\n",
       "      <td>5975375</td>\n",
       "      <td>29626</td>\n",
       "      <td>423</td>\n",
       "      <td>POLYGON ((382500.0001357661 6697750.000038046,...</td>\n",
       "      <td>[382500.0001357661, 382250.0001358146, 382250....</td>\n",
       "      <td>[6697750.000038046, 6697750.000038053, 6698000...</td>\n",
       "      <td>26</td>\n",
       "    </tr>\n",
       "    <tr>\n",
       "      <td>3</td>\n",
       "      <td>32690</td>\n",
       "      <td>54</td>\n",
       "      <td>34429</td>\n",
       "      <td>60</td>\n",
       "      <td>5785643</td>\n",
       "      <td>33233</td>\n",
       "      <td>125</td>\n",
       "      <td>150</td>\n",
       "      <td>33233</td>\n",
       "      <td>117</td>\n",
       "      <td>144</td>\n",
       "      <td>5975375</td>\n",
       "      <td>29919</td>\n",
       "      <td>427</td>\n",
       "      <td>POLYGON ((382750.0001357181 6697750.000038039,...</td>\n",
       "      <td>[382750.0001357181, 382500.0001357661, 382500....</td>\n",
       "      <td>[6697750.000038039, 6697750.000038046, 6698000...</td>\n",
       "      <td>28</td>\n",
       "    </tr>\n",
       "    <tr>\n",
       "      <td>4</td>\n",
       "      <td>31872</td>\n",
       "      <td>42</td>\n",
       "      <td>31834</td>\n",
       "      <td>48</td>\n",
       "      <td>5787544</td>\n",
       "      <td>32127</td>\n",
       "      <td>109</td>\n",
       "      <td>126</td>\n",
       "      <td>32127</td>\n",
       "      <td>101</td>\n",
       "      <td>121</td>\n",
       "      <td>5975375</td>\n",
       "      <td>31674</td>\n",
       "      <td>452</td>\n",
       "      <td>POLYGON ((381250.0001360176 6697500.000038121,...</td>\n",
       "      <td>[381250.0001360176, 381000.00013606605, 381000...</td>\n",
       "      <td>[6697500.000038121, 6697500.0000381265, 669775...</td>\n",
       "      <td>24</td>\n",
       "    </tr>\n",
       "  </tbody>\n",
       "</table>\n",
       "</div>"
      ],
      "text/plain": [
       "   car_m_d  car_m_t  car_r_d  car_r_t  from_id  pt_m_d  pt_m_t  pt_m_tt  \\\n",
       "0    32297       43    32260       48  5785640   32616     116      147   \n",
       "1    32508       43    32471       49  5785641   32822     119      145   \n",
       "2    30133       50    31872       56  5785642   32940     121      146   \n",
       "3    32690       54    34429       60  5785643   33233     125      150   \n",
       "4    31872       42    31834       48  5787544   32127     109      126   \n",
       "\n",
       "   pt_r_d  pt_r_t  pt_r_tt    to_id  walk_d  walk_t  \\\n",
       "0   32616     108      139  5975375   32164     459   \n",
       "1   32822     111      133  5975375   29547     422   \n",
       "2   32940     113      133  5975375   29626     423   \n",
       "3   33233     117      144  5975375   29919     427   \n",
       "4   32127     101      121  5975375   31674     452   \n",
       "\n",
       "                                            geometry  \\\n",
       "0  POLYGON ((382000.0001358641 6697750.000038058,...   \n",
       "1  POLYGON ((382250.0001358146 6697750.000038053,...   \n",
       "2  POLYGON ((382500.0001357661 6697750.000038046,...   \n",
       "3  POLYGON ((382750.0001357181 6697750.000038039,...   \n",
       "4  POLYGON ((381250.0001360176 6697500.000038121,...   \n",
       "\n",
       "                                                   x  \\\n",
       "0  [382000.00013586413, 381750.0001359122, 381750...   \n",
       "1  [382250.0001358146, 382000.00013586413, 382000...   \n",
       "2  [382500.0001357661, 382250.0001358146, 382250....   \n",
       "3  [382750.0001357181, 382500.0001357661, 382500....   \n",
       "4  [381250.0001360176, 381000.00013606605, 381000...   \n",
       "\n",
       "                                                   y  pt_r_tt_ud  \n",
       "0  [6697750.000038058, 6697750.000038066, 6698000...          27  \n",
       "1  [6697750.000038053, 6697750.000038058, 6698000...          26  \n",
       "2  [6697750.000038046, 6697750.000038053, 6698000...          26  \n",
       "3  [6697750.000038039, 6697750.000038046, 6698000...          28  \n",
       "4  [6697500.000038121, 6697500.0000381265, 669775...          24  "
      ]
     },
     "execution_count": 21,
     "metadata": {},
     "output_type": "execute_result"
    }
   ],
   "source": [
    "len(grid.loc[: \"geometry\"])\n",
    "breaks=[x for x in range(5, 200, 5)]\n",
    "classifier=mapclassify.User_Defined.make(bins=breaks)\n",
    "pt_classify=classifier(grid.loc[:, \"pt_r_tt\"])\n",
    "grid.loc[:, \"pt_r_tt_ud\"] = pt_classify\n",
    "grid.head()"
   ]
  },
  {
   "cell_type": "code",
   "execution_count": 22,
   "metadata": {},
   "outputs": [],
   "source": [
    "from bokeh.models import ColumnDataSource\n",
    "grid=grid.drop(\"geometry\", axis=1).copy()\n",
    "gsource=ColumnDataSource(grid)"
   ]
  },
  {
   "cell_type": "code",
   "execution_count": 23,
   "metadata": {},
   "outputs": [],
   "source": [
    "##Create Palette\n",
    "from bokeh.palettes import RdYlBu11 as palette\n",
    "from bokeh.models import LogColorMapper\n",
    "color_mapper=LogColorMapper(palette=palette)"
   ]
  },
  {
   "cell_type": "code",
   "execution_count": 24,
   "metadata": {},
   "outputs": [
    {
     "data": {
      "text/plain": [
       "'C:\\\\Users\\\\kangyuwang\\\\OneDrive\\\\portfolio\\\\python_geo\\\\Lesson 5\\\\travel_time_map.html'"
      ]
     },
     "execution_count": 24,
     "metadata": {},
     "output_type": "execute_result"
    }
   ],
   "source": [
    "##Combine three maps\n",
    "p1=figure(title=\"Travel times with Public transportation to Central Railway station\")\n",
    "p1.patches(\"x\", \"y\", source=gsource, \n",
    "         fill_color={\"field\": \"pt_r_tt_ud\", \"transform\":color_mapper}, fill_alpha=1.0, line_color=\"black\", line_width=0.05)\n",
    "save(obj=p1, filename=\"travel_time_map.html\")"
   ]
  }
 ],
 "metadata": {
  "kernelspec": {
   "display_name": "Python 3",
   "language": "python",
   "name": "python3"
  },
  "language_info": {
   "codemirror_mode": {
    "name": "ipython",
    "version": 3
   },
   "file_extension": ".py",
   "mimetype": "text/x-python",
   "name": "python",
   "nbconvert_exporter": "python",
   "pygments_lexer": "ipython3",
   "version": "3.7.4"
  }
 },
 "nbformat": 4,
 "nbformat_minor": 2
}
