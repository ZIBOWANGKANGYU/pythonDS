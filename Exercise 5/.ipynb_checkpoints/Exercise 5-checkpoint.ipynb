{
 "cells": [
  {
   "cell_type": "code",
   "execution_count": 3,
   "metadata": {},
   "outputs": [],
   "source": [
    "#Static map"
   ]
  },
  {
   "cell_type": "code",
   "execution_count": 49,
   "metadata": {},
   "outputs": [
    {
     "name": "stdout",
     "output_type": "stream",
     "text": [
      "C:\\Users\\kangyuwang\\OneDrive\\portfolio\\python_geo\\Exercise 5\n"
     ]
    }
   ],
   "source": [
    "cd \"C:/Users/kangyuwang/OneDrive/portfolio/python_geo/Exercise 5\""
   ]
  },
  {
   "cell_type": "code",
   "execution_count": 191,
   "metadata": {},
   "outputs": [],
   "source": [
    "##Import packages\n",
    "from bokeh.palettes import YlOrRd6 as palette\n",
    "from bokeh.plotting import figure, save, show\n",
    "from bokeh.models import ColumnDataSource, HoverTool, LogColorMapper, GeoJSONDataSource\n",
    "from bokeh.palettes import RdYlGn10 as palette\n",
    "from matplotlib import pyplot as plt\n",
    "import geopandas as gpd\n",
    "import pysal as ps\n",
    "import numpy as np\n",
    "import pandas as pd\n",
    "import mapclassify\n",
    "from shapely.geometry import Point, LineString, Polygon\n",
    "from shapely.ops import nearest_points\n"
   ]
  },
  {
   "cell_type": "code",
   "execution_count": 50,
   "metadata": {},
   "outputs": [],
   "source": [
    "##Read data\n",
    "data=gpd.read_file(\"dataE5/TravelTimes_to_5975375_RailwayStation.shp\")\n",
    "roads=gpd.read_file(\"dataE5/roads.shp\")\n",
    "metro=gpd.read_file(\"dataE5/metro.shp\")\n",
    "pop=gpd.read_file(\"dataE5/Vaestotietoruudukko_2015.shp\")\n",
    "data=data.to_crs(epsg=3067)\n",
    "roads=roads.to_crs(epsg=3067)\n",
    "metro=metro.to_crs(epsg=3067)\n",
    "pop=pop.to_crs(epsg=3067)"
   ]
  },
  {
   "cell_type": "code",
   "execution_count": 51,
   "metadata": {},
   "outputs": [],
   "source": [
    "##Exploring data: travel \n",
    "data.head()\n",
    "data.loc[:, \"centroid\"]=data.loc[:, \"geometry\"].apply(lambda f: f.centroid)"
   ]
  },
  {
   "cell_type": "code",
   "execution_count": 52,
   "metadata": {},
   "outputs": [
    {
     "data": {
      "text/html": [
       "<div>\n",
       "<style scoped>\n",
       "    .dataframe tbody tr th:only-of-type {\n",
       "        vertical-align: middle;\n",
       "    }\n",
       "\n",
       "    .dataframe tbody tr th {\n",
       "        vertical-align: top;\n",
       "    }\n",
       "\n",
       "    .dataframe thead th {\n",
       "        text-align: right;\n",
       "    }\n",
       "</style>\n",
       "<table border=\"1\" class=\"dataframe\">\n",
       "  <thead>\n",
       "    <tr style=\"text-align: right;\">\n",
       "      <th></th>\n",
       "      <th>NUMERO</th>\n",
       "      <th>SUUNTA</th>\n",
       "      <th>geometry</th>\n",
       "    </tr>\n",
       "  </thead>\n",
       "  <tbody>\n",
       "    <tr>\n",
       "      <td>0</td>\n",
       "      <td>1300M</td>\n",
       "      <td>1</td>\n",
       "      <td>LINESTRING (395360.222060516 6679514.826319194...</td>\n",
       "    </tr>\n",
       "    <tr>\n",
       "      <td>1</td>\n",
       "      <td>1300M</td>\n",
       "      <td>2</td>\n",
       "      <td>LINESTRING (384223.529403562 6671360.762176151...</td>\n",
       "    </tr>\n",
       "    <tr>\n",
       "      <td>2</td>\n",
       "      <td>1300M1</td>\n",
       "      <td>1</td>\n",
       "      <td>LINESTRING (395360.222060516 6679514.826319194...</td>\n",
       "    </tr>\n",
       "    <tr>\n",
       "      <td>3</td>\n",
       "      <td>1300M1</td>\n",
       "      <td>2</td>\n",
       "      <td>LINESTRING (393483.9532311981 6676347.80259114...</td>\n",
       "    </tr>\n",
       "    <tr>\n",
       "      <td>4</td>\n",
       "      <td>1300M2</td>\n",
       "      <td>1</td>\n",
       "      <td>LINESTRING (393483.9532311981 6676347.80259114...</td>\n",
       "    </tr>\n",
       "  </tbody>\n",
       "</table>\n",
       "</div>"
      ],
      "text/plain": [
       "   NUMERO  SUUNTA                                           geometry\n",
       "0   1300M       1  LINESTRING (395360.222060516 6679514.826319194...\n",
       "1   1300M       2  LINESTRING (384223.529403562 6671360.762176151...\n",
       "2  1300M1       1  LINESTRING (395360.222060516 6679514.826319194...\n",
       "3  1300M1       2  LINESTRING (393483.9532311981 6676347.80259114...\n",
       "4  1300M2       1  LINESTRING (393483.9532311981 6676347.80259114..."
      ]
     },
     "execution_count": 52,
     "metadata": {},
     "output_type": "execute_result"
    }
   ],
   "source": [
    "##Exploring data: roads and metro\n",
    "roads.head()\n",
    "metro.head()"
   ]
  },
  {
   "cell_type": "code",
   "execution_count": 55,
   "metadata": {},
   "outputs": [],
   "source": [
    "##Generating distance to nearest road and metro\n",
    "###Combine the roads \n",
    "roads.loc[:, \"for_dissolve\"]=1\n",
    "roads_uni = roads.dissolve(by=\"for_dissolve\")\n",
    "roads_uni=roads_uni.loc[:, \"geometry\"]\n",
    "###Combine the metro\n",
    "metro.loc[:, \"for_dissolve\"]=1\n",
    "metro_uni = metro.dissolve(by=\"for_dissolve\")\n",
    "metro_uni=metro_uni.loc[:, \"geometry\"]"
   ]
  },
  {
   "cell_type": "code",
   "execution_count": 82,
   "metadata": {},
   "outputs": [],
   "source": [
    "data.loc[:, \"distance_roads\"]=[nearest_points(data.loc[i, \"geometry\"], roads_uni.iloc[0])[0].distance(nearest_points(data.loc[i, \"geometry\"], roads_uni.iloc[0])[1]) for i in range(len(data.index))]\n",
    "data.loc[:, \"distance_metro\"]=[nearest_points(data.loc[i, \"geometry\"], metro_uni.iloc[0])[0].distance(nearest_points(data.loc[i, \"geometry\"], metro_uni.iloc[0])[1]) for i in range(len(data.index))]"
   ]
  },
  {
   "cell_type": "code",
   "execution_count": 89,
   "metadata": {},
   "outputs": [
    {
     "data": {
      "image/png": "[encoded data removed]",
      "text/plain": [
       "<Figure size 432x288 with 1 Axes>"
      ]
     },
     "metadata": {
      "needs_background": "light"
     },
     "output_type": "display_data"
    }
   ],
   "source": [
    "##Genearting static map\n",
    "static_map=data.plot(column=\"distance_roads\", linewidth=0.03, cmap=\"Reds\", scheme=\"quantiles\", k=9, alpha=0.9)\n",
    "roads.plot(ax=static_map, color=\"grey\", linewidth=1.5)\n",
    "plt.tight_layout()\n",
    "plt.title(\"Distance to nearest road\")\n",
    "plt.savefig(\"static_map.png\", dpi=300)"
   ]
  },
  {
   "cell_type": "code",
   "execution_count": 134,
   "metadata": {},
   "outputs": [],
   "source": [
    "##Average public transportation commuting time of residents\n",
    "pop.loc[:, \"centroid\"]=pop.loc[:, \"geometry\"].apply(lambda f: f.centroid)\n",
    "###Use spatial join\n",
    "pop_cen=pop.loc[:, [\"ASUKKAITA\", \"centroid\"]]\n",
    "data_cen=data.loc[:, [\"pt_r_tt\", \"geometry\"]]\n",
    "pop_cen.columns=[\"ASUKKAITA\", \"geometry\"]\n",
    "pop_cen_join=gpd.sjoin(pop_cen, data_cen, how=\"left\", op=\"intersects\")"
   ]
  },
  {
   "cell_type": "code",
   "execution_count": 143,
   "metadata": {},
   "outputs": [
    {
     "data": {
      "text/plain": [
       "37.890848795385764"
      ]
     },
     "execution_count": 143,
     "metadata": {},
     "output_type": "execute_result"
    }
   ],
   "source": [
    "indices = ~np.isnan(pop_cen_join.loc[:, \"pt_r_tt\"])\n",
    "np.average(pop_cen_join.loc[indices, \"pt_r_tt\"], weights=pop_cen_join.loc[indices, \"ASUKKAITA\"])\n",
    "###The average public transportation commute time is"
   ]
  },
  {
   "cell_type": "code",
   "execution_count": 90,
   "metadata": {},
   "outputs": [],
   "source": [
    "#Interactive map\n",
    "##Add coordinates\n",
    "roads.loc[39, \"geometry\"]=roads.loc[39, \"geometry\"][0]\n",
    "roads.loc[158, \"geometry\"]=roads.loc[158, \"geometry\"][0]\n",
    "data.loc[:, \"x\"]=data.loc[:, \"geometry\"].apply(lambda f: list(f.exterior.xy[0]))\n",
    "data.loc[:, \"y\"]=data.loc[:, \"geometry\"].apply(lambda f: list(f.exterior.xy[1]))\n",
    "metro.loc[:, \"x\"]=metro.loc[:, \"geometry\"].apply(lambda f: list(f.xy[0]))\n",
    "metro.loc[:, \"y\"]=metro.loc[:, \"geometry\"].apply(lambda f: list(f.xy[1]))\n",
    "roads.loc[:, \"x\"]=roads.loc[:, \"geometry\"].apply(lambda f: list(f.xy[0]))\n",
    "roads.loc[:, \"y\"]=roads.loc[:, \"geometry\"].apply(lambda f: list(f.xy[1]))"
   ]
  },
  {
   "cell_type": "code",
   "execution_count": 164,
   "metadata": {},
   "outputs": [
    {
     "data": {
      "text/plain": [
       "Text(0.5, 1.0, 'Distribution of Public Transportation Convenience Index')"
      ]
     },
     "execution_count": 164,
     "metadata": {},
     "output_type": "execute_result"
    },
    {
     "data": {
      "image/png": "[encoded data removed]",
      "text/plain": [
       "<Figure size 432x288 with 1 Axes>"
      ]
     },
     "metadata": {
      "needs_background": "light"
     },
     "output_type": "display_data"
    }
   ],
   "source": [
    "##Create new variable to meaasure the convenience of public transportation\n",
    "data.loc[:, \"pt_con\"]=data.loc[:, \"pt_r_tt\"]/data.loc[:, \"car_r_t\"]\n",
    "indices = ~np.isnan(data.loc[:, \"pt_con\"])\n",
    "data_map=data.loc[indices]\n",
    "plt.hist(data_map.loc[:, \"pt_con\"], bins=20)\n",
    "plt.title(\"Distribution of Public Transportation Convenience Index\")"
   ]
  },
  {
   "cell_type": "code",
   "execution_count": 185,
   "metadata": {},
   "outputs": [
    {
     "name": "stderr",
     "output_type": "stream",
     "text": [
      "C:\\ProgramData\\Anaconda3\\lib\\site-packages\\pandas\\core\\indexing.py:494: SettingWithCopyWarning: \n",
      "A value is trying to be set on a copy of a slice from a DataFrame.\n",
      "Try using .loc[row_indexer,col_indexer] = value instead\n",
      "\n",
      "See the caveats in the documentation: http://pandas.pydata.org/pandas-docs/stable/user_guide/indexing.html#returning-a-view-versus-a-copy\n",
      "  self.obj[item] = s\n",
      "C:\\ProgramData\\Anaconda3\\lib\\site-packages\\pandas\\core\\indexing.py:376: SettingWithCopyWarning: \n",
      "A value is trying to be set on a copy of a slice from a DataFrame.\n",
      "Try using .loc[row_indexer,col_indexer] = value instead\n",
      "\n",
      "See the caveats in the documentation: http://pandas.pydata.org/pandas-docs/stable/user_guide/indexing.html#returning-a-view-versus-a-copy\n",
      "  self.obj[key] = _infer_fill_value(value)\n"
     ]
    }
   ],
   "source": [
    "##Classify the pt_con variable\n",
    "classifier=mapclassify.Fisher_Jenks(data_map.loc[:, \"pt_con\"], k=6)\n",
    "data_map.loc[: ,\"pt_con_clsf\"]=classifier(data_map.loc[:, \"pt_con\"])\n",
    "d1={0: \"0-0.562\", 1: \"0.562-1.361\", 2: \"1.361-1.675\", 3: \"1.675-1.980\", 4: \"1.980-2.375\", 5: \"2.375-4.357\"}\n",
    "data_map.loc[:, \"pt_con_name\"] = data_map.loc[: ,\"pt_con_clsf\"].apply(lambda x: d1.get(x))\n"
   ]
  },
  {
   "cell_type": "code",
   "execution_count": 192,
   "metadata": {},
   "outputs": [
    {
     "data": {
      "text/plain": [
       "'C:\\\\Users\\\\kangyuwang\\\\OneDrive\\\\portfolio\\\\python_geo\\\\Exercise 5\\\\accessibility_map_Helsinki.html'"
      ]
     },
     "execution_count": 192,
     "metadata": {},
     "output_type": "execute_result"
    }
   ],
   "source": [
    "##Making maps\n",
    "df=data_map.loc[:, ['x', 'y', 'pt_r_tt', 'car_r_t', 'from_id', 'pt_con', 'pt_con_name']]\n",
    "df_source=ColumnDataSource(data=df)\n",
    "\n",
    "rdf=roads.loc[:, [\"x\", \"y\"]]\n",
    "rdf_source=ColumnDataSource(data=rdf)\n",
    "\n",
    "mdf=metro.loc[:, [\"x\", \"y\"]]\n",
    "mdf_source=ColumnDataSource(data=mdf)\n",
    "\n",
    "TOOLS=\"pan, wheel_zoom, box_zoom, reset, save\"\n",
    "\n",
    "palette.reverse()\n",
    "color_mapper=LogColorMapper(palette=palette)\n",
    "\n",
    "p=figure(title=\"Convenience of Public Transportation to Helsinki City Center\", tools=TOOLS, plot_width=650, plot_height=500, active_scroll=\"wheel_zoom\")\n",
    "p.grid.grid_line_color=None\n",
    "grid=p.patches(\"x\", \"y\", source=df_source, name=\"grid\", fill_color={\"field\":\"pt_con\", \"transform\":color_mapper}, fill_alpha=1.0, line_color=\"black\", line_width=0.03, legend=\"pt_con_name\")\n",
    "r=p.multi_line(\"x\", \"y\", source=rdf_source, color=\"grey\")\n",
    "m=p.multi_line(\"x\", \"y\", source=mdf_source, color=\"red\")\n",
    "\n",
    "p.legend.location=\"top_right\"\n",
    "p.legend.orientation=\"vertical\"\n",
    "\n",
    "circle=p.circle(x=385752.214, y=6672143.803, name=\"point\", size=6, color=\"yellow\")\n",
    "\n",
    "phover=HoverTool(renderers=[circle])\n",
    "phover.tooltips=[(\"Destination\", \"Railway Station\")]\n",
    "\n",
    "ghover=HoverTool(renderers=[grid])\n",
    "ghover.tooltips=[(\"YKR-ID\", \"@from_id\"), (\"PT time\", \"@pt_r_tt\"), (\"Car time\", \"@car_r_t\"), (\"Convenience index\", \"@pt_con\")]\n",
    "\n",
    "p.add_tools(ghover)\n",
    "p.add_tools(phover)\n",
    "\n",
    "show(p)\n",
    "save(p, \"accessibility_map_Helsinki.html\")"
   ]
  }
 ],
 "metadata": {
  "kernelspec": {
   "display_name": "Python 3",
   "language": "python",
   "name": "python3"
  },
  "language_info": {
   "codemirror_mode": {
    "name": "ipython",
    "version": 3
   },
   "file_extension": ".py",
   "mimetype": "text/x-python",
   "name": "python",
   "nbconvert_exporter": "python",
   "pygments_lexer": "ipython3",
   "version": "3.7.4"
  }
 },
 "nbformat": 4,
 "nbformat_minor": 2
}
