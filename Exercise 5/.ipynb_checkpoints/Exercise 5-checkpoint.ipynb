{
 "cells": [
  {
   "cell_type": "markdown",
   "metadata": {},
   "source": [
    "#Geospatial analytics in Python\n",
    "##Purpose of file\n",
    "This is a Jupyter notebook of geographical analytics in Python using geopandas shapely and bokeh. \n",
    "###First part\n",
    "The first part of this file creates a static map showing the nearest distance from anywhere in downtown Stockholm. In addition, it calculates the average public transportation commuting time in the city to the Railway station.\n",
    "###Second part\n",
    "The second part creates a interactive map showing the convenience of public transportation to Railway Station across the city. Please see the final interactive map product [here](https://zibowangkangyu.github.io/pythonDS/accessibility_map_Helsinki). \n",
    "\n",
    "Thanks to *Intro to Python GIS* course offered [here](https://automating-gis-processes.github.io/CSC18/index.html) by CSC Finland, IT Center for Science. \n"
   ]
  },
  {
   "cell_type": "code",
   "execution_count": 1,
   "metadata": {},
   "outputs": [],
   "source": [
    "#cd \"C:/Users/kangyuwang/OneDrive/portfolio/python_geo/Exercise 5\""
   ]
  },
  {
   "cell_type": "code",
   "execution_count": null,
   "metadata": {},
   "outputs": [],
   "source": [
    "##Import packages\n",
    "from bokeh.palettes import YlOrRd6 as palette\n",
    "from bokeh.plotting import figure, save, show\n",
    "from bokeh.models import ColumnDataSource, HoverTool, LogColorMapper, GeoJSONDataSource\n",
    "from bokeh.palettes import RdYlGn10 as palette\n",
    "from matplotlib import pyplot as plt\n",
    "import geopandas as gpd\n",
    "import pysal as ps\n",
    "import numpy as np\n",
    "import pandas as pd\n",
    "import mapclassify\n",
    "from shapely.geometry import Point, LineString, Polygon\n",
    "from shapely.ops import nearest_points"
   ]
  },
  {
   "cell_type": "code",
   "execution_count": null,
   "metadata": {},
   "outputs": [],
   "source": [
    "##Read data\n",
    "data=gpd.read_file(\"dataE5/TravelTimes_to_5975375_RailwayStation.shp\")\n",
    "roads=gpd.read_file(\"dataE5/roads.shp\")\n",
    "metro=gpd.read_file(\"dataE5/metro.shp\")\n",
    "pop=gpd.read_file(\"dataE5/Vaestotietoruudukko_2015.shp\")\n",
    "###CRS of four datasets are set to be identical\n",
    "data=data.to_crs(epsg=3067)\n",
    "roads=roads.to_crs(epsg=3067)\n",
    "metro=metro.to_crs(epsg=3067)\n",
    "pop=pop.to_crs(epsg=3067)"
   ]
  },
  {
   "cell_type": "code",
   "execution_count": null,
   "metadata": {},
   "outputs": [],
   "source": [
    "##Exploring data: travel \n",
    "data.head()\n",
    "data.loc[:, \"centroid\"]=data.loc[:, \"geometry\"].apply(lambda f: f.centroid)"
   ]
  },
  {
   "cell_type": "code",
   "execution_count": null,
   "metadata": {},
   "outputs": [],
   "source": [
    "##Exploring data: roads and metro\n",
    "roads.head()\n",
    "metro.head()"
   ]
  },
  {
   "cell_type": "code",
   "execution_count": null,
   "metadata": {},
   "outputs": [],
   "source": [
    "##Generating distance to nearest road and metro\n",
    "###Combine the roads into single polyline\n",
    "roads.loc[:, \"for_dissolve\"]=1\n",
    "roads_uni = roads.dissolve(by=\"for_dissolve\")\n",
    "roads_uni=roads_uni.loc[:, \"geometry\"]\n",
    "###Combine the metro into single polyline\n",
    "metro.loc[:, \"for_dissolve\"]=1\n",
    "metro_uni = metro.dissolve(by=\"for_dissolve\")\n",
    "metro_uni=metro_uni.loc[:, \"geometry\"]\n",
    "\n",
    "##Calculating the distance of all polygons in the \"data\" geodataframe to the neaest road and metro\n",
    "data.loc[:, \"distance_roads\"]=[nearest_points(data.loc[i, \"geometry\"], roads_uni.iloc[0])[0].distance(nearest_points(data.loc[i, \"geometry\"], roads_uni.iloc[0])[1]) for i in range(len(data.index))]\n",
    "data.loc[:, \"distance_metro\"]=[nearest_points(data.loc[i, \"geometry\"], metro_uni.iloc[0])[0].distance(nearest_points(data.loc[i, \"geometry\"], metro_uni.iloc[0])[1]) for i in range(len(data.index))]"
   ]
  },
  {
   "cell_type": "code",
   "execution_count": null,
   "metadata": {},
   "outputs": [],
   "source": [
    "##Genearting static map\n",
    "static_map=data.plot(column=\"distance_roads\", linewidth=0.03, cmap=\"Reds\", scheme=\"quantiles\", k=9, alpha=0.9)\n",
    "roads.plot(ax=static_map, color=\"grey\", linewidth=1.5)\n",
    "plt.tight_layout()\n",
    "plt.title(\"Distance to nearest road\")\n",
    "plt.savefig(\"static_map.png\", dpi=300)"
   ]
  },
  {
   "cell_type": "code",
   "execution_count": null,
   "metadata": {},
   "outputs": [],
   "source": [
    "##Average public transportation commuting time of residents\n",
    "pop.loc[:, \"centroid\"]=pop.loc[:, \"geometry\"].apply(lambda f: f.centroid)\n",
    "###The average public transportation comumuting time of each cell in the pop geodataframe is identified as the transportation comumuting time of its centroid \n",
    "pop_cen=pop.loc[:, [\"ASUKKAITA\", \"centroid\"]]\n",
    "data_cen=data.loc[:, [\"pt_r_tt\", \"geometry\"]]\n",
    "pop_cen.columns=[\"ASUKKAITA\", \"geometry\"]\n",
    "pop_cen_join=gpd.sjoin(pop_cen, data_cen, how=\"left\", op=\"intersects\")"
   ]
  },
  {
   "cell_type": "code",
   "execution_count": null,
   "metadata": {},
   "outputs": [],
   "source": [
    "indices = ~np.isnan(pop_cen_join.loc[:, \"pt_r_tt\"])\n",
    "pt_avrg=np.average(pop_cen_join.loc[indices, \"pt_r_tt\"], weights=pop_cen_join.loc[indices, \"ASUKKAITA\"])\n",
    "f\"The average public transportation commute time is {pt_avrg:.2f} minutes\""
   ]
  },
  {
   "cell_type": "code",
   "execution_count": null,
   "metadata": {},
   "outputs": [],
   "source": [
    "#Interactive map\n",
    "##Add coordinates in x and y columns so that they can be converted to ColumnDataSource\n",
    "roads.loc[39, \"geometry\"]=roads.loc[39, \"geometry\"][0]\n",
    "roads.loc[158, \"geometry\"]=roads.loc[158, \"geometry\"][0]\n",
    "data.loc[:, \"x\"]=data.loc[:, \"geometry\"].apply(lambda f: list(f.exterior.xy[0]))\n",
    "data.loc[:, \"y\"]=data.loc[:, \"geometry\"].apply(lambda f: list(f.exterior.xy[1]))\n",
    "metro.loc[:, \"x\"]=metro.loc[:, \"geometry\"].apply(lambda f: list(f.xy[0]))\n",
    "metro.loc[:, \"y\"]=metro.loc[:, \"geometry\"].apply(lambda f: list(f.xy[1]))\n",
    "roads.loc[:, \"x\"]=roads.loc[:, \"geometry\"].apply(lambda f: list(f.xy[0]))\n",
    "roads.loc[:, \"y\"]=roads.loc[:, \"geometry\"].apply(lambda f: list(f.xy[1]))"
   ]
  },
  {
   "cell_type": "code",
   "execution_count": null,
   "metadata": {},
   "outputs": [],
   "source": [
    "##Create new variable to meaasure the convenience of public transportation\n",
    "data.loc[:, \"pt_con\"]=data.loc[:, \"pt_r_tt\"]/data.loc[:, \"car_r_t\"]\n",
    "indices = ~np.isnan(data.loc[:, \"pt_con\"])\n",
    "data_map=data.loc[indices].copy()\n",
    "plt.hist(data_map.loc[:, \"pt_con\"], bins=20)\n",
    "plt.title(\"Distribution of Public Transportation Convenience Index\")"
   ]
  },
  {
   "cell_type": "code",
   "execution_count": null,
   "metadata": {},
   "outputs": [],
   "source": [
    "##Classify the pt_con variable: using the Fisher Jenks method\n",
    "classifier=mapclassify.Fisher_Jenks(data_map.loc[:, \"pt_con\"], k=6)\n",
    "data_map.loc[: ,\"pt_con_clsf\"]=classifier(data_map.loc[:, \"pt_con\"])\n",
    "d1={0: \"0-0.562\", 1: \"0.562-1.361\", 2: \"1.361-1.675\", 3: \"1.675-1.980\", 4: \"1.980-2.375\", 5: \"2.375-4.357\"}\n",
    "data_map.loc[:, \"pt_con_name\"] = data_map.loc[: ,\"pt_con_clsf\"].apply(lambda x: d1.get(x))"
   ]
  },
  {
   "cell_type": "code",
   "execution_count": null,
   "metadata": {},
   "outputs": [],
   "source": [
    "##Making maps\n",
    "df=data_map.loc[:, ['x', 'y', 'pt_r_tt', 'car_r_t', 'from_id', 'pt_con', 'pt_con_name']]\n",
    "df_source=ColumnDataSource(data=df)\n",
    "\n",
    "rdf=roads.loc[:, [\"x\", \"y\"]]\n",
    "rdf_source=ColumnDataSource(data=rdf)\n",
    "\n",
    "mdf=metro.loc[:, [\"x\", \"y\"]]\n",
    "mdf_source=ColumnDataSource(data=mdf)\n",
    "\n",
    "TOOLS=\"pan, wheel_zoom, box_zoom, reset, save\"\n",
    "\n",
    "palette.reverse()\n",
    "color_mapper=LogColorMapper(palette=palette)\n",
    "\n",
    "p=figure(title=\"Convenience of Public Transportation to Helsinki City Center\", tools=TOOLS, plot_width=650, plot_height=500, active_scroll=\"wheel_zoom\")\n",
    "p.grid.grid_line_color=None\n",
    "grid=p.patches(\"x\", \"y\", source=df_source, name=\"grid\", fill_color={\"field\":\"pt_con\", \"transform\":color_mapper}, fill_alpha=1.0, line_color=\"black\", line_width=0.03, legend=\"pt_con_name\")\n",
    "r=p.multi_line(\"x\", \"y\", source=rdf_source, color=\"grey\")\n",
    "m=p.multi_line(\"x\", \"y\", source=mdf_source, color=\"red\")\n",
    "\n",
    "p.legend.location=\"top_right\"\n",
    "p.legend.orientation=\"vertical\"\n",
    "\n",
    "circle=p.circle(x=385752.214, y=6672143.803, name=\"point\", size=6, color=\"yellow\")\n",
    "\n",
    "phover=HoverTool(renderers=[circle])\n",
    "phover.tooltips=[(\"Destination\", \"Railway Station\")]\n",
    "\n",
    "ghover=HoverTool(renderers=[grid])\n",
    "ghover.tooltips=[(\"YKR-ID\", \"@from_id\"), (\"PT time\", \"@pt_r_tt\"), (\"Car time\", \"@car_r_t\"), (\"Convenience index\", \"@pt_con\")]\n",
    "\n",
    "p.add_tools(ghover)\n",
    "p.add_tools(phover)\n",
    "\n",
    "show(p)\n",
    "save(p, \"accessibility_map_Helsinki.html\")"
   ]
  }
 ],
 "metadata": {
  "kernelspec": {
   "display_name": "Python 3",
   "language": "python",
   "name": "python3"
  },
  "language_info": {
   "codemirror_mode": {
    "name": "ipython",
    "version": 3
   },
   "file_extension": ".py",
   "mimetype": "text/x-python",
   "name": "python",
   "nbconvert_exporter": "python",
   "pygments_lexer": "ipython3",
   "version": "3.7.4"
  }
 },
 "nbformat": 4,
 "nbformat_minor": 2
}
